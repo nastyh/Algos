{
 "cells": [
  {
   "cell_type": "markdown",
   "metadata": {},
   "source": [
    "#### Returns elements that are in both lists"
   ]
  },
  {
   "cell_type": "code",
   "execution_count": 7,
   "metadata": {},
   "outputs": [],
   "source": [
    "def list_sum(alist, blist):\n",
    "    c = []\n",
    "    for i in range(len(alist)):\n",
    "        for j in range(len(blist)):\n",
    "            if alist[i]==blist[j]:\n",
    "                c.append(alist[i])\n",
    "    return c\n",
    "        "
   ]
  },
  {
   "cell_type": "code",
   "execution_count": 9,
   "metadata": {},
   "outputs": [
    {
     "data": {
      "text/plain": [
       "[11, 5]"
      ]
     },
     "execution_count": 9,
     "metadata": {},
     "output_type": "execute_result"
    }
   ],
   "source": [
    "a = [3,7,11,5]\n",
    "b = [6, 5, 11]\n",
    "list_sum(a,b)"
   ]
  },
  {
   "cell_type": "markdown",
   "metadata": {},
   "source": [
    "#### Binary search on the sorted array"
   ]
  },
  {
   "cell_type": "code",
   "execution_count": 33,
   "metadata": {},
   "outputs": [],
   "source": [
    "def bin_s(alist, value):\n",
    "    first = 0\n",
    "    last = len(alist)\n",
    "    found = False\n",
    "    while found:\n",
    "        middle = (first + last) / 2\n",
    "        if value == middle:\n",
    "            found = True\n",
    "        elif value < middle:\n",
    "            last = middle - 1     \n",
    "        else:\n",
    "            first = middle + 1\n",
    "    return alist.index(value)   \n"
   ]
  },
  {
   "cell_type": "code",
   "execution_count": 36,
   "metadata": {},
   "outputs": [
    {
     "data": {
      "text/plain": [
       "3"
      ]
     },
     "execution_count": 36,
     "metadata": {},
     "output_type": "execute_result"
    }
   ],
   "source": [
    "bin_s([4, 5, 6, 7],7)"
   ]
  },
  {
   "cell_type": "markdown",
   "metadata": {},
   "source": [
    "#### Same recursively"
   ]
  },
  {
   "cell_type": "code",
   "execution_count": 31,
   "metadata": {},
   "outputs": [],
   "source": [
    "def bin_s_rec(alist, value):\n",
    "    first = 0\n",
    "    last = len(alist)\n",
    "    found = False\n",
    "    while found:\n",
    "        middle = (first+last) / 2 \n",
    "        if value == middle:\n",
    "            found = True\n",
    "        elif value < middle:\n",
    "            last = middle - 1\n",
    "            bin_s_rec(alist[first:last], value)\n",
    "        else:\n",
    "            first = middle + 1\n",
    "            bin_s_rec(alist[first:last], value)\n",
    "    return alist.index(value)"
   ]
  },
  {
   "cell_type": "code",
   "execution_count": 34,
   "metadata": {},
   "outputs": [
    {
     "data": {
      "text/plain": [
       "6"
      ]
     },
     "execution_count": 34,
     "metadata": {},
     "output_type": "execute_result"
    }
   ],
   "source": [
    "a = [3,4,5,6,7,12,16]\n",
    "v = 16\n",
    "bin_s_rec(a,v)"
   ]
  },
  {
   "cell_type": "markdown",
   "metadata": {},
   "source": [
    "#### Given a sorted (in ascending order) integer array nums of n elements and a target value, write a function to search target in nums. If target exists, then return its index, otherwise return -1."
   ]
  },
  {
   "cell_type": "code",
   "execution_count": 46,
   "metadata": {},
   "outputs": [],
   "source": [
    "a = [1,2,3,4,5,6,7,8,9,10]\n",
    "b = [10,9,8,7,6,5,4,3,2,1]"
   ]
  },
  {
   "cell_type": "code",
   "execution_count": 53,
   "metadata": {},
   "outputs": [],
   "source": [
    "# for descending list\n",
    "def bin_asc1(alist, value):\n",
    "    \n",
    "    first_ix = 0\n",
    "    last_ix = len(alist) - 1\n",
    "\n",
    "    while first_ix <= last_ix:\n",
    "        middle_ix = (first_ix + last_ix) // 2\n",
    "        if value == alist[middle_ix]:\n",
    "            return middle_ix          \n",
    "        elif value < alist[middle_ix]:\n",
    "            first_ix = middle_ix + 1     \n",
    "        else:\n",
    "            last_ix = middle_ix - 1\n",
    "    return -1"
   ]
  },
  {
   "cell_type": "code",
   "execution_count": 55,
   "metadata": {},
   "outputs": [
    {
     "data": {
      "text/plain": [
       "1"
      ]
     },
     "execution_count": 55,
     "metadata": {},
     "output_type": "execute_result"
    }
   ],
   "source": [
    "bin_asc1(b, 9)"
   ]
  },
  {
   "cell_type": "code",
   "execution_count": 36,
   "metadata": {},
   "outputs": [],
   "source": [
    "def bin_s(sequence, value):\n",
    "    lo, hi = 0, len(sequence) - 1\n",
    "    while lo <= hi:\n",
    "        mid = (lo + hi) // 2\n",
    "        if sequence[mid] < value:\n",
    "            lo = mid + 1\n",
    "        elif value < sequence[mid]:\n",
    "            hi = mid - 1\n",
    "        else:\n",
    "            return mid\n",
    "    return None"
   ]
  },
  {
   "cell_type": "code",
   "execution_count": 37,
   "metadata": {},
   "outputs": [
    {
     "data": {
      "text/plain": [
       "3"
      ]
     },
     "execution_count": 37,
     "metadata": {},
     "output_type": "execute_result"
    }
   ],
   "source": [
    "bin_s(a,4)"
   ]
  },
  {
   "cell_type": "markdown",
   "metadata": {},
   "source": [
    "#### Implement a square root of a given number. Return a closest integer <= x^2"
   ]
  },
  {
   "cell_type": "code",
   "execution_count": 64,
   "metadata": {},
   "outputs": [],
   "source": [
    "def sq_manual(x):\n",
    "    low = 0\n",
    "    high = x//2\n",
    "    \n",
    "    if x == 0 or x == 1:\n",
    "        return x\n",
    "    while low <= high:\n",
    "        guess = (low+high)//2\n",
    "        if guess**2 == x:\n",
    "            return guess\n",
    "        elif guess**2 < x:\n",
    "            low = guess + 1\n",
    "        else:\n",
    "            high = guess - 1\n",
    "    return low - 1 \n",
    "        \n",
    "    \n",
    "    "
   ]
  },
  {
   "cell_type": "code",
   "execution_count": 69,
   "metadata": {},
   "outputs": [
    {
     "data": {
      "text/plain": [
       "3"
      ]
     },
     "execution_count": 69,
     "metadata": {},
     "output_type": "execute_result"
    }
   ],
   "source": [
    "sq_manual(12)"
   ]
  },
  {
   "cell_type": "markdown",
   "metadata": {},
   "source": [
    "#### Fixed point drill"
   ]
  },
  {
   "cell_type": "code",
   "execution_count": 73,
   "metadata": {},
   "outputs": [],
   "source": [
    "\"\"\"\n",
    "given an ascending list, return an index for which list[i] = i. Otherwise return - 1\n",
    "Example: [-4,0,2,55]\n",
    "Should return 2 because list[2] equals to the value that sits there\n",
    "\"\"\"\n",
    "\n",
    "def fixed_p(l):\n",
    "    left_ix = 0\n",
    "    right_ix = len(l) - 1\n",
    "    \n",
    "    while left_ix <= right_ix:\n",
    "        mid_ix = (left_ix + right_ix) // 2\n",
    "        if l[mid_ix] == mid_ix:\n",
    "            return mid_ix\n",
    "        elif l[mid_ix] < mid_ix:\n",
    "            left_ix = mid_ix + 1\n",
    "        else:\n",
    "            right_is = mid_ix - 1\n",
    "    return None"
   ]
  },
  {
   "cell_type": "code",
   "execution_count": 76,
   "metadata": {},
   "outputs": [
    {
     "data": {
      "text/plain": [
       "3"
      ]
     },
     "execution_count": 76,
     "metadata": {},
     "output_type": "execute_result"
    }
   ],
   "source": [
    "a = [-4,0,2,55]\n",
    "a1 = [-4,0,1,3]\n",
    "b = [33,34,35,36,37]\n",
    "fixed_p(a1)"
   ]
  },
  {
   "cell_type": "markdown",
   "metadata": {},
   "source": [
    "#### Find Closest Number"
   ]
  },
  {
   "cell_type": "code",
   "execution_count": 16,
   "metadata": {},
   "outputs": [],
   "source": [
    "\"\"\"\n",
    "Our goal is to find a number in the array that is closest to the target number. \n",
    "[3, 4, 10, 11, 17] and 0 should return 3 b/c it's the closest to 0\n",
    "[3, 4, 10, 11, 17] and 15 should return 17 b/c it's the closest to 15\n",
    "\"\"\"\n",
    "\n",
    "def closest_n (alist, num):\n",
    "    l_ix = 0\n",
    "    r_ix = len(alist) - 1\n",
    "    global_min_value = None\n",
    "    min_diff = float(\"inf\")\n",
    "    \n",
    "    if len(alist) == None:\n",
    "        return None\n",
    "    if len(alist) == 1:\n",
    "        return alist[0]\n",
    "    \n",
    "    while l_ix <= r_ix: \n",
    "        mid_ix = (l_ix + r_ix) // 2\n",
    "        \n",
    "        if mid_ix + 1 < len(alist):  # make sure you're not out of bounds of the list to the right\n",
    "            min_diff_right = abs(alist[mid_ix+1] - num)\n",
    "        if mid_ix > 0: # make sure you're not out of bounds of the list to the left\n",
    "            min_diff_left = abs(alist[mid_ix-1] - num)\n",
    "            \n",
    "        if min_diff_right < min_diff:\n",
    "            min_diff = min_diff_right\n",
    "            global_minimal = alist[mid_ix - 1]\n",
    "        if min_diff_left < min_diff:\n",
    "            min_diff = min_diff_left \n",
    "            global_minimal = alist[mid_ix-1] \n",
    "            \n",
    "        # doing traditional binary search movements    \n",
    "        if mid_ix < num:\n",
    "            left_ix = mid_ix + 1 \n",
    "        elif mid_ix > num:\n",
    "            right_ix = mid_ix - 1 \n",
    "        else: \n",
    "            return alist[mid_ix]\n",
    "        \n",
    "    return global_min_value "
   ]
  },
  {
   "cell_type": "code",
   "execution_count": null,
   "metadata": {},
   "outputs": [],
   "source": [
    "closest_n([3, 4, 10, 11, 17], 10)"
   ]
  },
  {
   "cell_type": "code",
   "execution_count": null,
   "metadata": {},
   "outputs": [],
   "source": [
    "def find_closest_num(A, target):\n",
    "    min_diff = float(\"inf\")\n",
    "    low = 0\n",
    "    high = len(A) - 1\n",
    "    closest_num = None\n",
    "\n",
    "    # Edge cases for empty list of list\n",
    "    # with only one element:\n",
    "    if len(A) == 0:\n",
    "        return None\n",
    "    if len(A) == 1:\n",
    "        return A[0]\n",
    "\n",
    "    while low <= high:\n",
    "        mid = (low + high)//2\n",
    "\n",
    "        # Ensure you do not read beyond the bounds\n",
    "        # of the list.\n",
    "        if mid+1 < len(A):\n",
    "            min_diff_right = abs(A[mid + 1] - target)\n",
    "        if mid > 0:\n",
    "            min_diff_left = abs(A[mid - 1] - target)\n",
    "\n",
    "        # Check if the absolute value between left\n",
    "        # and right elements are smaller than any\n",
    "        # seen prior.\n",
    "        if min_diff_left < min_diff:\n",
    "            min_diff = min_diff_left\n",
    "            closest_num = A[mid - 1]\n",
    "\n",
    "        if min_diff_right < min_diff:\n",
    "            min_diff = min_diff_right\n",
    "            closest_num = A[mid + 1]\n",
    "\n",
    "        # Move the mid-point appropriately as is done\n",
    "        # via binary search.\n",
    "        if A[mid] < target:\n",
    "            low = mid + 1\n",
    "        elif A[mid] > target:\n",
    "            high = mid - 1\n",
    "        # If the element itself is the target, the closest\n",
    "        # number to it is itself. Return the number.\n",
    "        else:\n",
    "            return A[mid]\n",
    "    return closest_num"
   ]
  },
  {
   "cell_type": "code",
   "execution_count": null,
   "metadata": {},
   "outputs": [],
   "source": [
    "find_closest_num([3, 4, 10, 11, 17], 10)"
   ]
  },
  {
   "cell_type": "markdown",
   "metadata": {},
   "source": [
    "#### Find Bitonic Peak"
   ]
  },
  {
   "cell_type": "code",
   "execution_count": 20,
   "metadata": {},
   "outputs": [],
   "source": [
    "\"\"\"\n",
    "an array that starts off with increasing terms and then concludes with decreasing terms.\n",
    "In any such sequence, there is a \"peak\" element, that is, the element in the sequence that is the largest element. \n",
    "[4,5,6,7,8,7,6,5,4] returns 8\n",
    "[12341] returns 4\n",
    "[1654321] returns 6\n",
    "\"\"\"\n",
    "\n",
    "def bitonic(alist): \n",
    "    l_ix = 0 \n",
    "    r_ix = len(alist) - 1\n",
    "    \n",
    "    if len(alist) < 3:\n",
    "        return None\n",
    "    \n",
    "    while l_ix <= r_ix: \n",
    "        m_ix = (l_ix + r_ix) // 2 \n",
    "        \n",
    "        mid_left = alist[m_ix - 1] if m_ix -1 > 0 else float(\"-inf\")\n",
    "        mid_right = alist[m_ix +1] if m_ix+1 < len(alist) else float(\"inf\") \n",
    "        \n",
    "        if alist[m_ix] > mid_left and alist[m_ix] > mid_right:\n",
    "            return alist[m_ix]\n",
    "        elif mid_left < alist[m_ix] and mid_right > alist[m_ix]:\n",
    "            l_ix = m_ix + 1\n",
    "        elif mid_left > alist[m_ix] and mid_right < alist[m_ix]:\n",
    "            r_ix = m_ix - 1 \n",
    "        \n",
    "                "
   ]
  },
  {
   "cell_type": "code",
   "execution_count": 23,
   "metadata": {},
   "outputs": [
    {
     "data": {
      "text/plain": [
       "6"
      ]
     },
     "execution_count": 23,
     "metadata": {},
     "output_type": "execute_result"
    }
   ],
   "source": [
    "bitonic([1,6,5,4,3,2,1])"
   ]
  },
  {
   "cell_type": "markdown",
   "metadata": {},
   "source": [
    "#### Bubble sort"
   ]
  },
  {
   "cell_type": "code",
   "execution_count": 25,
   "metadata": {},
   "outputs": [],
   "source": [
    "def b_sort(alist):\n",
    "    for i in range(len(alist)):\n",
    "        for j in range(len(alist)):\n",
    "            if alist[i] < alist[j]:\n",
    "                alist[i], alist[j] = alist[j], alist[i]\n",
    "    return alist"
   ]
  },
  {
   "cell_type": "code",
   "execution_count": 31,
   "metadata": {},
   "outputs": [],
   "source": [
    "def b_sort2(alist):\n",
    "    for i in range(len(alist)):\n",
    "        for j in range(len(alist)-i-1):\n",
    "            if alist[j] > alist[j+1]:\n",
    "                alist[j], alist[j+1] = alist[j+1], alist[j]\n",
    "    return alist"
   ]
  },
  {
   "cell_type": "code",
   "execution_count": 29,
   "metadata": {},
   "outputs": [
    {
     "data": {
      "text/plain": [
       "[1, 2, 3, 4, 6, 11, 24, 31]"
      ]
     },
     "execution_count": 29,
     "metadata": {},
     "output_type": "execute_result"
    }
   ],
   "source": [
    "a=[6,4,11,1,2,31,24,3]\n",
    "b_sort(a)"
   ]
  },
  {
   "cell_type": "code",
   "execution_count": 32,
   "metadata": {},
   "outputs": [
    {
     "data": {
      "text/plain": [
       "[1, 2, 3, 4, 6, 11, 24, 31]"
      ]
     },
     "execution_count": 32,
     "metadata": {},
     "output_type": "execute_result"
    }
   ],
   "source": [
    "b_sort2(a)"
   ]
  },
  {
   "cell_type": "markdown",
   "metadata": {},
   "source": [
    "#### Merge Sort"
   ]
  },
  {
   "cell_type": "code",
   "execution_count": null,
   "metadata": {},
   "outputs": [],
   "source": [
    "def merge_both(l,r):  # first a function that compares and merges two arrays\n",
    "    result = []\n",
    "    i,j = 0,0\n",
    "    while i < len(l) and j < len(r):\n",
    "        if l[i] <= r[j]:\n",
    "            result.append(l[i])\n",
    "            i+=i\n",
    "        else:\n",
    "            result.append(r[j])\n",
    "            j+=j\n",
    "    result += l[i:]\n",
    "    result += r[j:]\n",
    "    return result\n",
    "        \n",
    "        \n",
    "        \n",
    "def m_sort(alist):   # mergesort itself \n",
    "    left, right = 0,0 \n",
    "    if len(alist)<=1:\n",
    "        return alist\n",
    "    middle = int(len(alist) / 2)\n",
    "    left = m_sort(alist[:middle])\n",
    "    right = m_sort(alist[middle:])\n",
    "    return merge_both(left,right)\n",
    "    "
   ]
  },
  {
   "cell_type": "code",
   "execution_count": null,
   "metadata": {},
   "outputs": [],
   "source": [
    "a = [55,2,42,10,16,3,13]\n",
    "print(m_sort(a))"
   ]
  },
  {
   "cell_type": "markdown",
   "metadata": {},
   "source": [
    "#### Turning numbers in binary"
   ]
  },
  {
   "cell_type": "code",
   "execution_count": 81,
   "metadata": {},
   "outputs": [],
   "source": [
    "def binary(value):\n",
    "    st = []\n",
    "    num = 0\n",
    "    rem = 0\n",
    "    while value > 0:\n",
    "        value = int(value / 2)\n",
    "        rem = value % 2 \n",
    "        st.append(rem)      \n",
    "    st.reverse()   \n",
    "    for i in st:\n",
    "        print(i, end = '')\n",
    "        "
   ]
  },
  {
   "cell_type": "code",
   "execution_count": 82,
   "metadata": {},
   "outputs": [
    {
     "name": "stdout",
     "output_type": "stream",
     "text": [
      "0101"
     ]
    }
   ],
   "source": [
    "binary(11)\n"
   ]
  },
  {
   "cell_type": "markdown",
   "metadata": {},
   "source": [
    "#### Is a palindrome"
   ]
  },
  {
   "cell_type": "code",
   "execution_count": 1,
   "metadata": {},
   "outputs": [],
   "source": [
    "def is_pal(alist):\n",
    "    \n",
    "    for i in range(0,int(len(alist)/2)):\n",
    "        if alist[i] == alist[len(alist)-i-1]:\n",
    "            \n",
    "            return True\n",
    "        else: \n",
    "            \n",
    "            return False"
   ]
  },
  {
   "cell_type": "code",
   "execution_count": 4,
   "metadata": {},
   "outputs": [
    {
     "data": {
      "text/plain": [
       "True"
      ]
     },
     "execution_count": 4,
     "metadata": {},
     "output_type": "execute_result"
    }
   ],
   "source": [
    "v=[5,4,4,5]\n",
    "is_pal(v)"
   ]
  },
  {
   "cell_type": "markdown",
   "metadata": {},
   "source": [
    "#### Reverse array"
   ]
  },
  {
   "cell_type": "code",
   "execution_count": 22,
   "metadata": {},
   "outputs": [],
   "source": [
    "def Rev(alist):\n",
    "    for i in range(len(alist)//2): # b/c the left half will be swapped with the second half\n",
    "        swap = len(alist) - i - 1 # last current item. For the first iteration: len minus zero minus 1 equals 3. Third element in the list with four items is the last element\n",
    "        alist[i], alist[swap] = alist[swap], alist[i]\n",
    "    print(alist)"
   ]
  },
  {
   "cell_type": "code",
   "execution_count": 23,
   "metadata": {},
   "outputs": [
    {
     "name": "stdout",
     "output_type": "stream",
     "text": [
      "[4, 6, 5, 3]\n"
     ]
    }
   ],
   "source": [
    "b = [3,5,6,4]\n",
    "Rev(b)"
   ]
  },
  {
   "cell_type": "markdown",
   "metadata": {},
   "source": [
    "#### Fibonacci numbers"
   ]
  },
  {
   "cell_type": "code",
   "execution_count": 25,
   "metadata": {},
   "outputs": [],
   "source": [
    "\"\"\"Returns the first n Fibonacci numbers\"\"\"\n",
    "def fib(n):\n",
    "    if n==1 or n==2:\n",
    "        return 1\n",
    "    else:\n",
    "        return fib(n-1) + fib(n-2)"
   ]
  },
  {
   "cell_type": "code",
   "execution_count": 28,
   "metadata": {},
   "outputs": [
    {
     "name": "stdout",
     "output_type": "stream",
     "text": [
      "1\n",
      "1\n",
      "2\n",
      "3\n",
      "5\n"
     ]
    }
   ],
   "source": [
    "for i in range(1,6):\n",
    "    print(fib(i))"
   ]
  },
  {
   "cell_type": "markdown",
   "metadata": {},
   "source": [
    "#### Multiplication"
   ]
  },
  {
   "cell_type": "code",
   "execution_count": 30,
   "metadata": {},
   "outputs": [],
   "source": [
    "\"\"\"Take two numbers. Add number a to itself b times\"\"\"\n",
    "def ss(a,b):\n",
    "    s = 0\n",
    "    for i in range(b):\n",
    "        s = s+a\n",
    "    return s"
   ]
  },
  {
   "cell_type": "code",
   "execution_count": 31,
   "metadata": {},
   "outputs": [
    {
     "data": {
      "text/plain": [
       "12"
      ]
     },
     "execution_count": 31,
     "metadata": {},
     "output_type": "execute_result"
    }
   ],
   "source": [
    "ss(3,4)"
   ]
  },
  {
   "cell_type": "markdown",
   "metadata": {},
   "source": [
    "#### To the power"
   ]
  },
  {
   "cell_type": "code",
   "execution_count": 34,
   "metadata": {},
   "outputs": [],
   "source": [
    "\"\"\"Takes the base and to the power of p\"\"\"\n",
    "def pow(base, p):\n",
    "    s = 1\n",
    "    for i in range(p):\n",
    "        s = s*base\n",
    "    return s"
   ]
  },
  {
   "cell_type": "code",
   "execution_count": 36,
   "metadata": {},
   "outputs": [
    {
     "data": {
      "text/plain": [
       "9"
      ]
     },
     "execution_count": 36,
     "metadata": {},
     "output_type": "execute_result"
    }
   ],
   "source": [
    "pow(3,2)"
   ]
  },
  {
   "cell_type": "markdown",
   "metadata": {},
   "source": [
    "#### Retuns the remainder"
   ]
  },
  {
   "cell_type": "code",
   "execution_count": 39,
   "metadata": {},
   "outputs": [],
   "source": [
    "\"\"\"a//b = c + d\n",
    "a = 17, b = 3. ==> c = 17 // 3 == 5. a minus c times b = 17 - 5*3 = 2\n",
    "\"\"\"\n",
    "def rd(a,b):\n",
    "    if b<0:\n",
    "        return -1\n",
    "    else:\n",
    "        c = a // b\n",
    "        return a - b*c"
   ]
  },
  {
   "cell_type": "code",
   "execution_count": 40,
   "metadata": {},
   "outputs": [
    {
     "data": {
      "text/plain": [
       "2"
      ]
     },
     "execution_count": 40,
     "metadata": {},
     "output_type": "execute_result"
    }
   ],
   "source": [
    "rd(17,3)"
   ]
  },
  {
   "cell_type": "markdown",
   "metadata": {},
   "source": [
    "### Linked List"
   ]
  },
  {
   "cell_type": "code",
   "execution_count": null,
   "metadata": {},
   "outputs": [],
   "source": [
    "#Start with creating a node\n",
    "class node: # subclass of the linked list that is created below. You never see it\n",
    "    def __init__(self, data=None):\n",
    "        self.data = data\n",
    "        self.next=None  #it's a node that doesn't point anywhere. The last element will also have a pointer set to None\n",
    "\n",
    "class linked_list:\n",
    "    def __init__(self):\n",
    "        self.head = node() # the head node never contains the actual data. \n",
    "\n",
    "def append(self, data):\n",
    "    new_node = node(data)\n",
    "    if self.head is None:\n",
    "        self.head = new_node\n",
    "        return\n",
    "    \n",
    "    last_node = self.head\n",
    "    while last_node.next:\n",
    "        last_node = last_node.next\n",
    "    last.node.next = new_node\n",
    "    \n",
    "def print_list(self):\n",
    "    cur_node = self.head\n",
    "    while cur_node:\n",
    "        print(cur_node.data)\n",
    "    cur_node = cur_node.next\n",
    "\n",
    "llist = linked_list()\n",
    "llist.append(\"A\")\n",
    "llist.append(\"B\")\n",
    "llist.print_list()\n",
    "  "
   ]
  },
  {
   "cell_type": "code",
   "execution_count": 13,
   "metadata": {},
   "outputs": [],
   "source": [
    "def insert_after_node(self, prev_node, data):\n",
    "    if not prev_node:\n",
    "        print(\"Can't insert after a non-existing node\")\n",
    "        return\n",
    "    new_node = node(data)\n",
    "    new_node.next = prev_node.next\n",
    "    prev_node.next = new_node"
   ]
  },
  {
   "cell_type": "code",
   "execution_count": null,
   "metadata": {},
   "outputs": [],
   "source": [
    "llist.insert_after_node(llist.head.next,\"E\")"
   ]
  },
  {
   "cell_type": "markdown",
   "metadata": {},
   "source": [
    "### Binary search tree"
   ]
  },
  {
   "cell_type": "code",
   "execution_count": 18,
   "metadata": {},
   "outputs": [],
   "source": [
    "class Node(object):  #as with the linked list, first create a node\n",
    "    def __init__(self,value):\n",
    "        self.value = value\n",
    "        self.left = self.right = None #instead of the next, define left and right\n",
    "\n",
    "class BinaryTree(object): # the tree itself\n",
    "    def __init__(self,root):\n",
    "        self.root = Node(root) #initializing the top, a.k.a. the root as a Node class\n",
    "\n",
    "btree = BinaryTree(1) # putting the initial value \n",
    "btree.root.left = Node(2)\n",
    "btree.root.right = Node(3)\n",
    "btree.root.left.left = Node(4)\n",
    "btree.root.left.right = Node(5)\n",
    "btree.root.right = Node(6)\n",
    "btree.root.right.right = Node(7)\n"
   ]
  },
  {
   "cell_type": "code",
   "execution_count": null,
   "metadata": {},
   "outputs": [],
   "source": [
    "# traversals. Trees can be traversed in different ways\n",
    "# Depth-first order: in-order, pre-order, post-order\n",
    "\n",
    "def preorder_print(self, start, traversal):\n",
    "    if start:\n",
    "        traversal +=(str(start.value) + \"-\")\n",
    "        traversal = self.preorder_print(start.left, traversal)\n",
    "        traversal = self.preorder_print(start.right, traversal)\n",
    "    return traversal\n",
    "\n",
    "def print_tree(self, traversal_type):\n",
    "    if traversal_type == 'preorder':\n",
    "        return self.preorder_print(btree.root,\"\")\n",
    "    \n",
    "print(btree.print_tree(\"preorder\"))"
   ]
  },
  {
   "cell_type": "markdown",
   "metadata": {},
   "source": [
    "#### Multiply two largest elements "
   ]
  },
  {
   "cell_type": "code",
   "execution_count": 14,
   "metadata": {},
   "outputs": [],
   "source": [
    "# Multiplies two largest elemets from the list\n",
    "def mult_2(alist):\n",
    "    def sec_larg(alist):\n",
    "        first, second = 0, 0\n",
    "        for n in alist:\n",
    "            if n > first:\n",
    "                first, second = n, first \n",
    "            elif first > n > second:\n",
    "                    second = n\n",
    "        return second \n",
    "                \n",
    "            \n",
    "    m1 = max(alist) # the largest element\n",
    "    m2 = sec_larg(alist) # the second largest element is found by using an inner function\n",
    "    return m1*m2\n",
    "    "
   ]
  },
  {
   "cell_type": "code",
   "execution_count": 16,
   "metadata": {},
   "outputs": [
    {
     "data": {
      "text/plain": [
       "473"
      ]
     },
     "execution_count": 16,
     "metadata": {},
     "output_type": "execute_result"
    }
   ],
   "source": [
    "b=[4,5,43,11]\n",
    "mult_2(b)"
   ]
  },
  {
   "cell_type": "markdown",
   "metadata": {},
   "source": [
    "#### String transformation"
   ]
  },
  {
   "cell_type": "code",
   "execution_count": 18,
   "metadata": {},
   "outputs": [],
   "source": [
    "\"\"\"\n",
    "Take string aabbbd, return a2b3d1. If the new string is longer than the old string, return the original\n",
    "aacbbbd gives a2c1b3d1 and it's longer. Return aacbbbd instead\n",
    "\"\"\"\n",
    "def str_fre(st):\n",
    "    d = [] # empty list\n",
    "    cnt = 0 # counter\n",
    "    prv = st[0] # prev symbols equals the first string element\n",
    "    for n in st: #looping thru the string \n",
    "        if n == prv: #if current element = previous\n",
    "            cnt +=1\n",
    "        else:\n",
    "            d += prv + str(cnt) #add to the list the element and the counter transformed into a string\n",
    "            prv = n\n",
    "            cnt = 1\n",
    "    d += prv + str(cnt) #need to repeat it for cases when we never enter the else statement\n",
    "    d = ''.join(d)\n",
    "    if len(d) < len(st):\n",
    "        return d\n",
    "    else:\n",
    "        return st\n",
    "            "
   ]
  },
  {
   "cell_type": "code",
   "execution_count": 20,
   "metadata": {},
   "outputs": [
    {
     "data": {
      "text/plain": [
       "'aacvvvd'"
      ]
     },
     "execution_count": 20,
     "metadata": {},
     "output_type": "execute_result"
    }
   ],
   "source": [
    "g = \"aacvvvd\"\n",
    "str_fre(g)"
   ]
  },
  {
   "cell_type": "markdown",
   "metadata": {},
   "source": [
    "#### Check if string has unique characters"
   ]
  },
  {
   "cell_type": "code",
   "execution_count": 21,
   "metadata": {},
   "outputs": [],
   "source": [
    "\"\"\"\n",
    "'abc' gives True because all elements are unique\n",
    "'return' gives False because \"r\" is repeated twice\n",
    "\"\"\"\n",
    "def un(st): #set only contains unique elements. Turn your string into a set, and it'll only store unique elements.\n",
    "    if len(set(st)) == len(st): # Then check whether the length of the set equals to string's. \n",
    "        return True\n",
    "    else: return False"
   ]
  },
  {
   "cell_type": "code",
   "execution_count": 23,
   "metadata": {},
   "outputs": [
    {
     "data": {
      "text/plain": [
       "False"
      ]
     },
     "execution_count": 23,
     "metadata": {},
     "output_type": "execute_result"
    }
   ],
   "source": [
    "b=\"abc\"\n",
    "n=\"return\"\n",
    "un(n)"
   ]
  },
  {
   "cell_type": "markdown",
   "metadata": {},
   "source": [
    "#### Is one string a permutation of another"
   ]
  },
  {
   "cell_type": "code",
   "execution_count": 27,
   "metadata": {},
   "outputs": [],
   "source": [
    "\"\"\"\n",
    "'driving' and 'drivign' return True\n",
    "'driving' and 'dddrivin' return False\n",
    "\"\"\"\n",
    "def is_perm(st1, st2):\n",
    "    st1 = st1.replace(\" \",\"\") #remove spaces \n",
    "    st2 = st2.replace(\" \",\"\")\n",
    "    \n",
    "    if len(st1) != len(st2): return False # if different lengths, not permutations \n",
    "    else:\n",
    "        for i in st1: #loop thru the first string\n",
    "            if i in st2:\n",
    "                st2 = st2.replace(i,\"\") #remove from the second string all elements that are also in the first string\n",
    "        return len(st2) == 0 # if nothing is left, it means that every element in the second string has been removed b/c it was found in the first string\n",
    "    \n",
    "    "
   ]
  },
  {
   "cell_type": "code",
   "execution_count": 28,
   "metadata": {},
   "outputs": [
    {
     "data": {
      "text/plain": [
       "True"
      ]
     },
     "execution_count": 28,
     "metadata": {},
     "output_type": "execute_result"
    }
   ],
   "source": [
    "r=\"driving\"\n",
    "t=\"drivign\"\n",
    "is_perm(r,t)"
   ]
  },
  {
   "cell_type": "markdown",
   "metadata": {},
   "source": [
    "#### Same thing but with a dictionary"
   ]
  },
  {
   "cell_type": "code",
   "execution_count": 3,
   "metadata": {},
   "outputs": [],
   "source": [
    "def is_anagram(str1, str2):\n",
    "    str1 = str1.replace(\" \",\"\")\n",
    "    str2 = str2.replace(\" \",\"\")\n",
    "    str1 = str1.lower()\n",
    "    str2 = str2.lower()\n",
    "    \n",
    "    if len(str1) != len(str2):\n",
    "        return False\n",
    "    \n",
    "    alphabet = \"abcdefghijklmnopqrstuvwxyz\"\n",
    "    d1 = dict.fromkeys(list(alphabet),0)\n",
    "    d2 = dict.fromkeys(list(alphabet),0)\n",
    "    \n",
    "    for i in range(len(str1)):\n",
    "        d1[str1[i]]+= 1\n",
    "        d2[str2[i]]+= 1 \n",
    "    return d1 == d2 \n",
    "    "
   ]
  },
  {
   "cell_type": "code",
   "execution_count": 7,
   "metadata": {},
   "outputs": [
    {
     "data": {
      "text/plain": [
       "True"
      ]
     },
     "execution_count": 7,
     "metadata": {},
     "output_type": "execute_result"
    }
   ],
   "source": [
    "a = \"ast\"\n",
    "b = \"sat\"\n",
    "c = \"vocabul\"\n",
    "d = \"vacabul\"\n",
    "is_anagram(a,b)\n",
    "#is_anagram(c,d)"
   ]
  },
  {
   "cell_type": "markdown",
   "metadata": {},
   "source": [
    "### Return indices of numbers that add up to a given number"
   ]
  },
  {
   "cell_type": "code",
   "execution_count": 11,
   "metadata": {},
   "outputs": [],
   "source": [
    "# each element is used once\n",
    "def sum_2(nums, target):\n",
    "    if len(nums) <= 1:\n",
    "        return False\n",
    "    d = {}\n",
    "    for i in range(len(nums)):\n",
    "        if nums[i] in d:\n",
    "            return d[nums[i]], i\n",
    "        else:\n",
    "            d[target - nums[i]] = i\n",
    "            \n",
    "        "
   ]
  },
  {
   "cell_type": "code",
   "execution_count": 12,
   "metadata": {},
   "outputs": [
    {
     "data": {
      "text/plain": [
       "(1, 4)"
      ]
     },
     "execution_count": 12,
     "metadata": {},
     "output_type": "execute_result"
    }
   ],
   "source": [
    "nums = [3,11, 6,9,2]\n",
    "target = 13\n",
    "sum_2(nums, target)"
   ]
  },
  {
   "cell_type": "markdown",
   "metadata": {},
   "source": [
    "### Fizz Buzz"
   ]
  },
  {
   "cell_type": "code",
   "execution_count": 38,
   "metadata": {},
   "outputs": [],
   "source": [
    "# print everything from 1 to n; for multipes of 3, print fizz, for multiples of 5, print buzz, for multiples of 15\n",
    "#print fizz buzz\n",
    "def fizz_buzz(n):\n",
    "    for i in range(1,n+1):\n",
    "        if i % 3 == 0 and i % 5 == 0:\n",
    "            print(\"fizz buzz\")\n",
    "        elif i % 3 == 0:\n",
    "            print(\"fizz\")\n",
    "        elif i % 5== 0:\n",
    "            print(\"buzz\")\n",
    "        else:\n",
    "            print(i)"
   ]
  },
  {
   "cell_type": "code",
   "execution_count": null,
   "metadata": {},
   "outputs": [],
   "source": [
    "n = 24\n",
    "fizz_buzz(n)"
   ]
  },
  {
   "cell_type": "markdown",
   "metadata": {},
   "source": [
    "### Factorials\n",
    "#### Iterative and recursive fashion"
   ]
  },
  {
   "cell_type": "code",
   "execution_count": 41,
   "metadata": {},
   "outputs": [],
   "source": [
    "def fact_i(n):\n",
    "    x = 1 \n",
    "    for i in range(n, 0, -1):\n",
    "        x*= i\n",
    "    return(x)\n",
    "        "
   ]
  },
  {
   "cell_type": "code",
   "execution_count": null,
   "metadata": {},
   "outputs": [],
   "source": [
    "fact_i(2)"
   ]
  },
  {
   "cell_type": "code",
   "execution_count": 44,
   "metadata": {},
   "outputs": [],
   "source": [
    "def fact_r(n):\n",
    "    if n <=1:\n",
    "        return 1\n",
    "    else:\n",
    "        return n * fact_r(n-1)"
   ]
  },
  {
   "cell_type": "code",
   "execution_count": null,
   "metadata": {},
   "outputs": [],
   "source": [
    "fact_r(6)"
   ]
  },
  {
   "cell_type": "markdown",
   "metadata": {},
   "source": [
    "### If a number is a prime number"
   ]
  },
  {
   "cell_type": "code",
   "execution_count": 12,
   "metadata": {},
   "outputs": [],
   "source": [
    "def is_prime(n):\n",
    "    if n <= 1:\n",
    "        return False\n",
    "    \n",
    "    for x in range(2,n):\n",
    "        if n%x == 0:\n",
    "            return False\n",
    "        else: return True"
   ]
  },
  {
   "cell_type": "code",
   "execution_count": 17,
   "metadata": {},
   "outputs": [],
   "source": [
    "is_prime(2)"
   ]
  },
  {
   "cell_type": "markdown",
   "metadata": {},
   "source": [
    "#### Return all prime numbers that are smaller that the given number"
   ]
  },
  {
   "cell_type": "code",
   "execution_count": 58,
   "metadata": {},
   "outputs": [],
   "source": [
    "def prime_under(upper):\n",
    "    \n",
    "    for num in range(2,upper):\n",
    "        if all(num%i!=0 for i in range(2,num)):\n",
    "            print(num)\n",
    "        "
   ]
  },
  {
   "cell_type": "code",
   "execution_count": null,
   "metadata": {},
   "outputs": [],
   "source": [
    "prime_under(17)"
   ]
  },
  {
   "cell_type": "markdown",
   "metadata": {},
   "source": [
    "#### Given two strings, determine if they share a common substring. A substring may be as small as one character."
   ]
  },
  {
   "cell_type": "code",
   "execution_count": 3,
   "metadata": {},
   "outputs": [],
   "source": [
    "def two_str(s1,s2):\n",
    "    s1 =set(input())\n",
    "    s2 =set(input())\n",
    "    \n",
    "    if any(i in s2 for i in s1):\n",
    "        return True\n",
    "    else:\n",
    "        return False"
   ]
  },
  {
   "cell_type": "code",
   "execution_count": null,
   "metadata": {},
   "outputs": [],
   "source": [
    "two_str(s1,s2)"
   ]
  },
  {
   "cell_type": "markdown",
   "metadata": {},
   "source": [
    "#### Create multiples of 6 from n to m"
   ]
  },
  {
   "cell_type": "code",
   "execution_count": 15,
   "metadata": {},
   "outputs": [],
   "source": [
    "def mult_6(n,m):\n",
    "    \n",
    "    l=[]\n",
    "    #n, m = map(int,input().split())\n",
    "    for i in range(n,m+1):\n",
    "        if i % 6 == 0:\n",
    "            l.append(i)\n",
    "    return l"
   ]
  },
  {
   "cell_type": "code",
   "execution_count": 16,
   "metadata": {},
   "outputs": [
    {
     "data": {
      "text/plain": [
       "[6, 12, 18, 24, 30]"
      ]
     },
     "execution_count": 16,
     "metadata": {},
     "output_type": "execute_result"
    }
   ],
   "source": [
    "mult_6(1,30)"
   ]
  },
  {
   "cell_type": "code",
   "execution_count": 36,
   "metadata": {},
   "outputs": [],
   "source": [
    "def mult_6_1(n,m):\n",
    "    l = [i for i in range(n,m+1) if i%6==0]\n",
    "    print(l)"
   ]
  },
  {
   "cell_type": "code",
   "execution_count": 37,
   "metadata": {},
   "outputs": [
    {
     "name": "stdout",
     "output_type": "stream",
     "text": [
      "[6, 12, 18, 24, 30]\n"
     ]
    }
   ],
   "source": [
    "mult_6_1(1,30)"
   ]
  },
  {
   "cell_type": "markdown",
   "metadata": {},
   "source": [
    "#### Find a runnerup"
   ]
  },
  {
   "cell_type": "code",
   "execution_count": 42,
   "metadata": {},
   "outputs": [],
   "source": [
    "def runnerup():\n",
    "    l = list(map(int,input().split()))\n",
    "    l_s=sorted(l,reverse=True)\n",
    "    print(l_s[1])"
   ]
  },
  {
   "cell_type": "code",
   "execution_count": 41,
   "metadata": {},
   "outputs": [
    {
     "name": "stdout",
     "output_type": "stream",
     "text": [
      "6\n"
     ]
    }
   ],
   "source": [
    "runnerup()"
   ]
  },
  {
   "cell_type": "markdown",
   "metadata": {},
   "source": [
    "### F strings"
   ]
  },
  {
   "cell_type": "code",
   "execution_count": 1,
   "metadata": {},
   "outputs": [
    {
     "name": "stdout",
     "output_type": "stream",
     "text": [
      "Hello, Eric. You're 74 years old\n"
     ]
    }
   ],
   "source": [
    "name = \"Eric\"\n",
    "age = 74\n",
    "print(f\"Hello, {name}. You're {age} years old\")"
   ]
  },
  {
   "cell_type": "code",
   "execution_count": 2,
   "metadata": {},
   "outputs": [
    {
     "name": "stdout",
     "output_type": "stream",
     "text": [
      "The comedian's name is Eric Idle. And he is 74 years old\n"
     ]
    }
   ],
   "source": [
    "## Example with dictionaries. Don't mix ' with \"\".\n",
    "comedian = {'name': 'Eric Idle', 'age': 74}\n",
    "print(f\"The comedian's name is {comedian['name']}. And he is {comedian['age']} years old\")"
   ]
  },
  {
   "cell_type": "markdown",
   "metadata": {},
   "source": [
    "#### Odd numbers between two given numbers"
   ]
  },
  {
   "cell_type": "code",
   "execution_count": 5,
   "metadata": {},
   "outputs": [],
   "source": [
    "def oddnumbers(l,r):\n",
    "    for i in range(l,r+1):\n",
    "        if i%2 == 1:\n",
    "            print(i)"
   ]
  },
  {
   "cell_type": "code",
   "execution_count": 6,
   "metadata": {},
   "outputs": [
    {
     "name": "stdout",
     "output_type": "stream",
     "text": [
      "5\n",
      "7\n",
      "9\n"
     ]
    }
   ],
   "source": [
    "oddnumbers(4,10)"
   ]
  },
  {
   "cell_type": "code",
   "execution_count": 7,
   "metadata": {},
   "outputs": [],
   "source": [
    "def oddNumbers(l, r):\n",
    "    print(num for num in range(l,r+1) if num % 2 ==1)"
   ]
  },
  {
   "cell_type": "code",
   "execution_count": 8,
   "metadata": {},
   "outputs": [
    {
     "name": "stdout",
     "output_type": "stream",
     "text": [
      "5\n",
      "7\n",
      "9\n"
     ]
    }
   ],
   "source": [
    "oddnumbers(4,10)"
   ]
  },
  {
   "cell_type": "code",
   "execution_count": 12,
   "metadata": {},
   "outputs": [],
   "source": [
    "str1 = 'abcd'\n",
    "str2 = 'cdy'\n",
    "\n",
    "def str_set(s1, s2):\n",
    "    if set(s1) & set(s2) == set():\n",
    "        print(\"no\")\n",
    "    else:\n",
    "        print(\"yes\")"
   ]
  },
  {
   "cell_type": "code",
   "execution_count": 14,
   "metadata": {},
   "outputs": [
    {
     "data": {
      "text/plain": [
       "set()"
      ]
     },
     "execution_count": 14,
     "metadata": {},
     "output_type": "execute_result"
    }
   ],
   "source": [
    "str1 = 'abcd'\n",
    "str2 = 'zzz'\n",
    "\n",
    "set(str1) & set(str2)"
   ]
  },
  {
   "cell_type": "code",
   "execution_count": 15,
   "metadata": {},
   "outputs": [
    {
     "name": "stdout",
     "output_type": "stream",
     "text": [
      "no\n"
     ]
    }
   ],
   "source": [
    "str_set(str1, str2)"
   ]
  },
  {
   "cell_type": "markdown",
   "metadata": {},
   "source": [
    "#### Remove vowels from a given string (a, e, i, o)"
   ]
  },
  {
   "cell_type": "code",
   "execution_count": 23,
   "metadata": {},
   "outputs": [],
   "source": [
    "def remove_vowels(st):\n",
    "    v_list = ['a','e','i','o']\n",
    "    new_v = ''\n",
    "    for i in st:\n",
    "        if i not in v_list:\n",
    "            new_v += i\n",
    "    return new_v"
   ]
  },
  {
   "cell_type": "code",
   "execution_count": 25,
   "metadata": {},
   "outputs": [
    {
     "data": {
      "text/plain": [
       "''"
      ]
     },
     "execution_count": 25,
     "metadata": {},
     "output_type": "execute_result"
    }
   ],
   "source": [
    "remove_vowels('iii')"
   ]
  },
  {
   "cell_type": "markdown",
   "metadata": {},
   "source": [
    "#### Alernative way with comprehension"
   ]
  },
  {
   "cell_type": "code",
   "execution_count": 42,
   "metadata": {},
   "outputs": [],
   "source": [
    "def remove_vowels_replace(st):\n",
    "    v_list = ['a','e','i','o']\n",
    "    return ''.join(char for char in st if char not in v_list)"
   ]
  },
  {
   "cell_type": "code",
   "execution_count": 43,
   "metadata": {},
   "outputs": [
    {
     "data": {
      "text/plain": [
       "'dpr'"
      ]
     },
     "execution_count": 43,
     "metadata": {},
     "output_type": "execute_result"
    }
   ],
   "source": [
    "remove_vowels_replace('eedpoeaair')"
   ]
  }
 ],
 "metadata": {
  "kernelspec": {
   "display_name": "Python 3",
   "language": "python",
   "name": "python3"
  },
  "language_info": {
   "codemirror_mode": {
    "name": "ipython",
    "version": 3
   },
   "file_extension": ".py",
   "mimetype": "text/x-python",
   "name": "python",
   "nbconvert_exporter": "python",
   "pygments_lexer": "ipython3",
   "version": "3.7.0"
  }
 },
 "nbformat": 4,
 "nbformat_minor": 2
}
