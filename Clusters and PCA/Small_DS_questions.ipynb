{
 "cells": [
  {
   "cell_type": "markdown",
   "metadata": {},
   "source": [
    "#### Returns elements that are in both lists"
   ]
  },
  {
   "cell_type": "code",
   "execution_count": 7,
   "metadata": {},
   "outputs": [],
   "source": [
    "def list_sum(alist, blist):\n",
    "    c = []\n",
    "    for i in range(len(alist)):\n",
    "        for j in range(len(blist)):\n",
    "            if alist[i]==blist[j]:\n",
    "                c.append(alist[i])\n",
    "    return c\n",
    "        "
   ]
  },
  {
   "cell_type": "code",
   "execution_count": 9,
   "metadata": {},
   "outputs": [
    {
     "data": {
      "text/plain": [
       "[11, 5]"
      ]
     },
     "execution_count": 9,
     "metadata": {},
     "output_type": "execute_result"
    }
   ],
   "source": [
    "a = [3,7,11,5]\n",
    "b = [6, 5, 11]\n",
    "list_sum(a,b)"
   ]
  },
  {
   "cell_type": "markdown",
   "metadata": {},
   "source": [
    "#### Binary search on the sorted array"
   ]
  },
  {
   "cell_type": "code",
   "execution_count": 25,
   "metadata": {},
   "outputs": [],
   "source": [
    "def bin_s(alist, value):\n",
    "    first = 0\n",
    "    last = len(alist)\n",
    "    found = False\n",
    "    while found:\n",
    "        middle = (first + last) / 2\n",
    "        if value == middle:\n",
    "            found = True\n",
    "        elif value < middle:\n",
    "            last = middle - 1     \n",
    "        else:\n",
    "            first = middle + 1\n",
    "    return alist.index(value)   \n"
   ]
  },
  {
   "cell_type": "code",
   "execution_count": 30,
   "metadata": {},
   "outputs": [
    {
     "data": {
      "text/plain": [
       "1"
      ]
     },
     "execution_count": 30,
     "metadata": {},
     "output_type": "execute_result"
    }
   ],
   "source": [
    "a = [3,4,5,6,7]\n",
    "v = 4\n",
    "bin_s(a,v)"
   ]
  },
  {
   "cell_type": "markdown",
   "metadata": {},
   "source": [
    "#### Same recursively"
   ]
  },
  {
   "cell_type": "code",
   "execution_count": 31,
   "metadata": {},
   "outputs": [],
   "source": [
    "def bin_s_rec(alist, value):\n",
    "    first = 0\n",
    "    last = len(alist)\n",
    "    found = False\n",
    "    while found:\n",
    "        middle = (first+last) / 2 \n",
    "        if value == middle:\n",
    "            found = True\n",
    "        elif value < middle:\n",
    "            last = middle - 1\n",
    "            bin_s_rec(alist[first:last], value)\n",
    "        else:\n",
    "            first = middle + 1\n",
    "            bin_s_rec(alist[first:last], value)\n",
    "    return alist.index(value)"
   ]
  },
  {
   "cell_type": "code",
   "execution_count": 34,
   "metadata": {},
   "outputs": [
    {
     "data": {
      "text/plain": [
       "6"
      ]
     },
     "execution_count": 34,
     "metadata": {},
     "output_type": "execute_result"
    }
   ],
   "source": [
    "a = [3,4,5,6,7,12,16]\n",
    "v = 16\n",
    "bin_s_rec(a,v)"
   ]
  },
  {
   "cell_type": "markdown",
   "metadata": {},
   "source": [
    "#### Bubble sort"
   ]
  },
  {
   "cell_type": "code",
   "execution_count": 25,
   "metadata": {},
   "outputs": [],
   "source": [
    "def b_sort(alist):\n",
    "    for i in range(len(alist)):\n",
    "        for j in range(len(alist)):\n",
    "            if alist[i] < alist[j]:\n",
    "                alist[i], alist[j] = alist[j], alist[i]\n",
    "    return alist"
   ]
  },
  {
   "cell_type": "code",
   "execution_count": 31,
   "metadata": {},
   "outputs": [],
   "source": [
    "def b_sort2(alist):\n",
    "    for i in range(len(alist)):\n",
    "        for j in range(len(alist)-i-1):\n",
    "            if alist[j] > alist[j+1]:\n",
    "                alist[j], alist[j+1] = alist[j+1], alist[j]\n",
    "    return alist"
   ]
  },
  {
   "cell_type": "code",
   "execution_count": 29,
   "metadata": {},
   "outputs": [
    {
     "data": {
      "text/plain": [
       "[1, 2, 3, 4, 6, 11, 24, 31]"
      ]
     },
     "execution_count": 29,
     "metadata": {},
     "output_type": "execute_result"
    }
   ],
   "source": [
    "a=[6,4,11,1,2,31,24,3]\n",
    "b_sort(a)"
   ]
  },
  {
   "cell_type": "code",
   "execution_count": 32,
   "metadata": {},
   "outputs": [
    {
     "data": {
      "text/plain": [
       "[1, 2, 3, 4, 6, 11, 24, 31]"
      ]
     },
     "execution_count": 32,
     "metadata": {},
     "output_type": "execute_result"
    }
   ],
   "source": [
    "b_sort2(a)"
   ]
  },
  {
   "cell_type": "markdown",
   "metadata": {},
   "source": [
    "#### Merge Sort"
   ]
  },
  {
   "cell_type": "code",
   "execution_count": null,
   "metadata": {},
   "outputs": [],
   "source": [
    "def merge_both(l,r):  # first a function that compares and merges two arrays\n",
    "    result = []\n",
    "    i,j = 0,0\n",
    "    while i < len(l) and j < len(r):\n",
    "        if l[i] <= r[j]:\n",
    "            result.append(l[i])\n",
    "            i+=i\n",
    "        else:\n",
    "            result.append(r[j])\n",
    "            j+=j\n",
    "    result += l[i:]\n",
    "    result += r[j:]\n",
    "    return result\n",
    "        \n",
    "        \n",
    "        \n",
    "def m_sort(alist):   # mergesort itself \n",
    "    left, right = 0,0 \n",
    "    if len(alist)<=1:\n",
    "        return alist\n",
    "    middle = int(len(alist) / 2)\n",
    "    left = m_sort(alist[:middle])\n",
    "    right = m_sort(alist[middle:])\n",
    "    return merge_both(left,right)\n",
    "    "
   ]
  },
  {
   "cell_type": "code",
   "execution_count": null,
   "metadata": {},
   "outputs": [],
   "source": [
    "a = [55,2,42,10,16,3,13]\n",
    "print(m_sort(a))"
   ]
  },
  {
   "cell_type": "markdown",
   "metadata": {},
   "source": [
    "#### Turning numbers in binary"
   ]
  },
  {
   "cell_type": "code",
   "execution_count": 81,
   "metadata": {},
   "outputs": [],
   "source": [
    "def binary(value):\n",
    "    st = []\n",
    "    num = 0\n",
    "    rem = 0\n",
    "    while value > 0:\n",
    "        value = int(value / 2)\n",
    "        rem = value % 2 \n",
    "        st.append(rem)      \n",
    "    st.reverse()   \n",
    "    for i in st:\n",
    "        print(i, end = '')\n",
    "        "
   ]
  },
  {
   "cell_type": "code",
   "execution_count": 82,
   "metadata": {},
   "outputs": [
    {
     "name": "stdout",
     "output_type": "stream",
     "text": [
      "0101"
     ]
    }
   ],
   "source": [
    "binary(11)\n"
   ]
  },
  {
   "cell_type": "markdown",
   "metadata": {},
   "source": [
    "#### Is a palindrome"
   ]
  },
  {
   "cell_type": "code",
   "execution_count": 1,
   "metadata": {},
   "outputs": [],
   "source": [
    "def is_pal(alist):\n",
    "    \n",
    "    for i in range(0,int(len(alist)/2)):\n",
    "        if alist[i] == alist[len(alist)-i-1]:\n",
    "            \n",
    "            return True\n",
    "        else: \n",
    "            \n",
    "            return False"
   ]
  },
  {
   "cell_type": "code",
   "execution_count": 4,
   "metadata": {},
   "outputs": [
    {
     "data": {
      "text/plain": [
       "True"
      ]
     },
     "execution_count": 4,
     "metadata": {},
     "output_type": "execute_result"
    }
   ],
   "source": [
    "v=[5,4,4,5]\n",
    "is_pal(v)"
   ]
  },
  {
   "cell_type": "markdown",
   "metadata": {},
   "source": [
    "#### Reverse array"
   ]
  },
  {
   "cell_type": "code",
   "execution_count": 22,
   "metadata": {},
   "outputs": [],
   "source": [
    "def Rev(alist):\n",
    "    for i in range(len(alist)//2): # b/c the left half will be swapped with the second half\n",
    "        swap = len(alist) - i - 1 # last current item. For the first iteration: len minus zero minus 1 equals 3. Third element in the list with four items is the last element\n",
    "        alist[i], alist[swap] = alist[swap], alist[i]\n",
    "    print(alist)"
   ]
  },
  {
   "cell_type": "code",
   "execution_count": 23,
   "metadata": {},
   "outputs": [
    {
     "name": "stdout",
     "output_type": "stream",
     "text": [
      "[4, 6, 5, 3]\n"
     ]
    }
   ],
   "source": [
    "b = [3,5,6,4]\n",
    "Rev(b)"
   ]
  },
  {
   "cell_type": "markdown",
   "metadata": {},
   "source": [
    "#### Fibonacci numbers"
   ]
  },
  {
   "cell_type": "code",
   "execution_count": 25,
   "metadata": {},
   "outputs": [],
   "source": [
    "\"\"\"Returns the first n Fibonacci numbers\"\"\"\n",
    "def fib(n):\n",
    "    if n==1 or n==2:\n",
    "        return 1\n",
    "    else:\n",
    "        return fib(n-1) + fib(n-2)"
   ]
  },
  {
   "cell_type": "code",
   "execution_count": 28,
   "metadata": {},
   "outputs": [
    {
     "name": "stdout",
     "output_type": "stream",
     "text": [
      "1\n",
      "1\n",
      "2\n",
      "3\n",
      "5\n"
     ]
    }
   ],
   "source": [
    "for i in range(1,6):\n",
    "    print(fib(i))"
   ]
  },
  {
   "cell_type": "markdown",
   "metadata": {},
   "source": [
    "#### Multiplication"
   ]
  },
  {
   "cell_type": "code",
   "execution_count": 30,
   "metadata": {},
   "outputs": [],
   "source": [
    "\"\"\"Take two numbers. Add number a to itself b times\"\"\"\n",
    "def ss(a,b):\n",
    "    s = 0\n",
    "    for i in range(b):\n",
    "        s = s+a\n",
    "    return s"
   ]
  },
  {
   "cell_type": "code",
   "execution_count": 31,
   "metadata": {},
   "outputs": [
    {
     "data": {
      "text/plain": [
       "12"
      ]
     },
     "execution_count": 31,
     "metadata": {},
     "output_type": "execute_result"
    }
   ],
   "source": [
    "ss(3,4)"
   ]
  },
  {
   "cell_type": "markdown",
   "metadata": {},
   "source": [
    "#### To the power"
   ]
  },
  {
   "cell_type": "code",
   "execution_count": 34,
   "metadata": {},
   "outputs": [],
   "source": [
    "\"\"\"Takes the base and to the power of p\"\"\"\n",
    "def pow(base, p):\n",
    "    s = 1\n",
    "    for i in range(p):\n",
    "        s = s*base\n",
    "    return s"
   ]
  },
  {
   "cell_type": "code",
   "execution_count": 36,
   "metadata": {},
   "outputs": [
    {
     "data": {
      "text/plain": [
       "9"
      ]
     },
     "execution_count": 36,
     "metadata": {},
     "output_type": "execute_result"
    }
   ],
   "source": [
    "pow(3,2)"
   ]
  },
  {
   "cell_type": "markdown",
   "metadata": {},
   "source": [
    "#### Retuns the remainder"
   ]
  },
  {
   "cell_type": "code",
   "execution_count": 39,
   "metadata": {},
   "outputs": [],
   "source": [
    "\"\"\"a//b = c + d\n",
    "a = 17, b = 3. ==> c = 17 // 3 == 5. a minus c times b = 17 - 5*3 = 2\n",
    "\"\"\"\n",
    "def rd(a,b):\n",
    "    if b<0:\n",
    "        return -1\n",
    "    else:\n",
    "        c = a // b\n",
    "        return a - b*c"
   ]
  },
  {
   "cell_type": "code",
   "execution_count": 40,
   "metadata": {},
   "outputs": [
    {
     "data": {
      "text/plain": [
       "2"
      ]
     },
     "execution_count": 40,
     "metadata": {},
     "output_type": "execute_result"
    }
   ],
   "source": [
    "rd(17,3)"
   ]
  },
  {
   "cell_type": "markdown",
   "metadata": {},
   "source": [
    "### Linked List"
   ]
  },
  {
   "cell_type": "code",
   "execution_count": null,
   "metadata": {},
   "outputs": [],
   "source": [
    "#Start with creating a node\n",
    "class node: # subclass of the linked list that is created below. You never see it\n",
    "    def __init__(self, data=None):\n",
    "        self.data = data\n",
    "        self.next=None  #it's a node that doesn't point anywhere. The last element will also have a pointer set to None\n",
    "\n",
    "class linked_list:\n",
    "    def __init__(self):\n",
    "        self.head = node() # the head node never contains the actual data. \n",
    "\n",
    "def append(self, data):\n",
    "    new_node = node(data)\n",
    "    if self.head is None:\n",
    "        self.head = new_node\n",
    "        return\n",
    "    \n",
    "    last_node = self.head\n",
    "    while last_node.next:\n",
    "        last_node = last_node.next\n",
    "    last.node.next = new_node\n",
    "    \n",
    "def print_list(self):\n",
    "    cur_node = self.head\n",
    "    while cur_node:\n",
    "        print(cur_node.data)\n",
    "    cur_node = cur_node.next\n",
    "\n",
    "llist = linked_list()\n",
    "llist.append(\"A\")\n",
    "llist.append(\"B\")\n",
    "llist.print_list()\n",
    "  "
   ]
  },
  {
   "cell_type": "code",
   "execution_count": 13,
   "metadata": {},
   "outputs": [],
   "source": [
    "def insert_after_node(self, prev_node, data):\n",
    "    if not prev_node:\n",
    "        print(\"Can't insert after a non-existing node\")\n",
    "        return\n",
    "    new_node = node(data)\n",
    "    new_node.next = prev_node.next\n",
    "    prev_node.next = new_node"
   ]
  },
  {
   "cell_type": "code",
   "execution_count": null,
   "metadata": {},
   "outputs": [],
   "source": [
    "llist.insert_after_node(llist.head.next,\"E\")"
   ]
  },
  {
   "cell_type": "markdown",
   "metadata": {},
   "source": [
    "### Binary search tree"
   ]
  },
  {
   "cell_type": "code",
   "execution_count": 18,
   "metadata": {},
   "outputs": [],
   "source": [
    "class Node(object):  #as with the linked list, first create a node\n",
    "    def __init__(self,value):\n",
    "        self.value = value\n",
    "        self.left = self.right = None #instead of the next, define left and right\n",
    "\n",
    "class BinaryTree(object): # the tree itself\n",
    "    def __init__(self,root):\n",
    "        self.root = Node(root) #initializing the top, a.k.a. the root as a Node class\n",
    "\n",
    "btree = BinaryTree(1) # putting the initial value \n",
    "btree.root.left = Node(2)\n",
    "btree.root.right = Node(3)\n",
    "btree.root.left.left = Node(4)\n",
    "btree.root.left.right = Node(5)\n",
    "btree.root.right = Node(6)\n",
    "btree.root.right.right = Node(7)\n"
   ]
  },
  {
   "cell_type": "code",
   "execution_count": null,
   "metadata": {},
   "outputs": [],
   "source": [
    "# traversals. Trees can be traversed in different ways\n",
    "# Depth-first order: in-order, pre-order, post-order\n",
    "\n",
    "def preorder_print(self, start, traversal):\n",
    "    if start:\n",
    "        traversal +=(str(start.value) + \"-\")\n",
    "        traversal = self.preorder_print(start.left, traversal)\n",
    "        traversal = self.preorder_print(start.right, traversal)\n",
    "    return traversal\n",
    "\n",
    "def print_tree(self, traversal_type):\n",
    "    if traversal_type == 'preorder':\n",
    "        return self.preorder_print(btree.root,\"\")\n",
    "    \n",
    "print(btree.print_tree(\"preorder\"))"
   ]
  },
  {
   "cell_type": "markdown",
   "metadata": {},
   "source": [
    "#### Multiply two largest elements "
   ]
  },
  {
   "cell_type": "code",
   "execution_count": 14,
   "metadata": {},
   "outputs": [],
   "source": [
    "# Multiplies two largest elemets from the list\n",
    "def mult_2(alist):\n",
    "    def sec_larg(alist):\n",
    "        first, second = 0, 0\n",
    "        for n in alist:\n",
    "            if n > first:\n",
    "                first, second = n, first \n",
    "            elif first > n > second:\n",
    "                    second = n\n",
    "        return second \n",
    "                \n",
    "            \n",
    "    m1 = max(alist) # the largest element\n",
    "    m2 = sec_larg(alist) # the second largest element is found by using an inner function\n",
    "    return m1*m2\n",
    "    "
   ]
  },
  {
   "cell_type": "code",
   "execution_count": 16,
   "metadata": {},
   "outputs": [
    {
     "data": {
      "text/plain": [
       "473"
      ]
     },
     "execution_count": 16,
     "metadata": {},
     "output_type": "execute_result"
    }
   ],
   "source": [
    "b=[4,5,43,11]\n",
    "mult_2(b)"
   ]
  }
 ],
 "metadata": {
  "kernelspec": {
   "display_name": "Python 3",
   "language": "python",
   "name": "python3"
  },
  "language_info": {
   "codemirror_mode": {
    "name": "ipython",
    "version": 3
   },
   "file_extension": ".py",
   "mimetype": "text/x-python",
   "name": "python",
   "nbconvert_exporter": "python",
   "pygments_lexer": "ipython3",
   "version": "3.7.0"
  }
 },
 "nbformat": 4,
 "nbformat_minor": 2
}
