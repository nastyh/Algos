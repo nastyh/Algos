{
 "cells": [
  {
   "cell_type": "markdown",
   "metadata": {},
   "source": [
    "#### Returns elements that are in both lists"
   ]
  },
  {
   "cell_type": "code",
   "execution_count": 7,
   "metadata": {},
   "outputs": [],
   "source": [
    "def list_sum(alist, blist):\n",
    "    c = []\n",
    "    for i in range(len(alist)):\n",
    "        for j in range(len(blist)):\n",
    "            if alist[i]==blist[j]:\n",
    "                c.append(alist[i])\n",
    "    return c\n",
    "        "
   ]
  },
  {
   "cell_type": "code",
   "execution_count": 9,
   "metadata": {},
   "outputs": [
    {
     "data": {
      "text/plain": [
       "[11, 5]"
      ]
     },
     "execution_count": 9,
     "metadata": {},
     "output_type": "execute_result"
    }
   ],
   "source": [
    "a = [3,7,11,5]\n",
    "b = [6, 5, 11]\n",
    "list_sum(a,b)"
   ]
  },
  {
   "cell_type": "markdown",
   "metadata": {},
   "source": [
    "#### Binary search on the sorted array"
   ]
  },
  {
   "cell_type": "code",
   "execution_count": 25,
   "metadata": {},
   "outputs": [],
   "source": [
    "def bin_s(alist, value):\n",
    "    first = 0\n",
    "    last = len(alist)\n",
    "    found = False\n",
    "    while found:\n",
    "        middle = (first + last) / 2\n",
    "        if value == middle:\n",
    "            found = True\n",
    "        elif value < middle:\n",
    "            last = middle - 1     \n",
    "        else:\n",
    "            first = middle + 1\n",
    "    return alist.index(value)   \n"
   ]
  },
  {
   "cell_type": "code",
   "execution_count": 30,
   "metadata": {},
   "outputs": [
    {
     "data": {
      "text/plain": [
       "1"
      ]
     },
     "execution_count": 30,
     "metadata": {},
     "output_type": "execute_result"
    }
   ],
   "source": [
    "a = [3,4,5,6,7]\n",
    "v = 4\n",
    "bin_s(a,v)"
   ]
  },
  {
   "cell_type": "markdown",
   "metadata": {},
   "source": [
    "#### Same recursively"
   ]
  },
  {
   "cell_type": "code",
   "execution_count": 31,
   "metadata": {},
   "outputs": [],
   "source": [
    "def bin_s_rec(alist, value):\n",
    "    first = 0\n",
    "    last = len(alist)\n",
    "    found = False\n",
    "    while found:\n",
    "        middle = (first+last) / 2 \n",
    "        if value == middle:\n",
    "            found = True\n",
    "        elif value < middle:\n",
    "            last = middle - 1\n",
    "            bin_s_rec(alist[first:last], value)\n",
    "        else:\n",
    "            first = middle + 1\n",
    "            bin_s_rec(alist[first:last], value)\n",
    "    return alist.index(value)"
   ]
  },
  {
   "cell_type": "code",
   "execution_count": 34,
   "metadata": {},
   "outputs": [
    {
     "data": {
      "text/plain": [
       "6"
      ]
     },
     "execution_count": 34,
     "metadata": {},
     "output_type": "execute_result"
    }
   ],
   "source": [
    "a = [3,4,5,6,7,12,16]\n",
    "v = 16\n",
    "bin_s_rec(a,v)"
   ]
  },
  {
   "cell_type": "markdown",
   "metadata": {},
   "source": [
    "#### Turning numbers in binary"
   ]
  },
  {
   "cell_type": "code",
   "execution_count": 73,
   "metadata": {},
   "outputs": [],
   "source": [
    "def binary(value):\n",
    "    st = []\n",
    "    num = 0\n",
    "    rem = 0\n",
    "    while value > 0:\n",
    "        value = int(value / 2)\n",
    "        rem = value % 2 \n",
    "        st.append(rem)      \n",
    "    st.reverse()   \n",
    "    print(st)\n",
    "        "
   ]
  },
  {
   "cell_type": "code",
   "execution_count": 74,
   "metadata": {},
   "outputs": [
    {
     "name": "stdout",
     "output_type": "stream",
     "text": [
      "[0, 1, 0, 1]\n"
     ]
    }
   ],
   "source": [
    "binary(11)\n"
   ]
  }
 ],
 "metadata": {
  "kernelspec": {
   "display_name": "Python 3",
   "language": "python",
   "name": "python3"
  },
  "language_info": {
   "codemirror_mode": {
    "name": "ipython",
    "version": 3
   },
   "file_extension": ".py",
   "mimetype": "text/x-python",
   "name": "python",
   "nbconvert_exporter": "python",
   "pygments_lexer": "ipython3",
   "version": "3.6.4"
  }
 },
 "nbformat": 4,
 "nbformat_minor": 2
}
