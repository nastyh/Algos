{
 "cells": [
  {
   "cell_type": "code",
   "execution_count": null,
   "metadata": {},
   "outputs": [],
   "source": [
    "days = pd.read_csv('C:/Users/MI017KA/Pitney Bowes/eCommerce Operations - BIA_RetailAnalytics/Promos/Friends and Family/Post Mortem/Clustering/20181017_days_original.csv')"
   ]
  },
  {
   "cell_type": "code",
   "execution_count": null,
   "metadata": {},
   "outputs": [],
   "source": [
    "import pandas as pd\n",
    "import numpy as np\n",
    "import matplotlib.pyplot as plt\n",
    "import sklearn"
   ]
  },
  {
   "cell_type": "code",
   "execution_count": 35,
   "metadata": {},
   "outputs": [
    {
     "data": {
      "text/html": [
       "<div>\n",
       "<style scoped>\n",
       "    .dataframe tbody tr th:only-of-type {\n",
       "        vertical-align: middle;\n",
       "    }\n",
       "\n",
       "    .dataframe tbody tr th {\n",
       "        vertical-align: top;\n",
       "    }\n",
       "\n",
       "    .dataframe thead th {\n",
       "        text-align: right;\n",
       "    }\n",
       "</style>\n",
       "<table border=\"1\" class=\"dataframe\">\n",
       "  <thead>\n",
       "    <tr style=\"text-align: right;\">\n",
       "      <th></th>\n",
       "      <th>EmailAddress</th>\n",
       "      <th>SubscriberKey</th>\n",
       "      <th>CUSTOMER_ID</th>\n",
       "      <th>ACCOUNT_ID</th>\n",
       "      <th>SentDate_CST_FIRST</th>\n",
       "      <th>ORDER_DATE_CST_FIRST</th>\n",
       "    </tr>\n",
       "  </thead>\n",
       "  <tbody>\n",
       "    <tr>\n",
       "      <th>0</th>\n",
       "      <td>NOGUEL@YAHOO.COM</td>\n",
       "      <td>NOGUEL@YAHOO.COM</td>\n",
       "      <td>1394723</td>\n",
       "      <td>592dbda71d0000bf5f7129f1</td>\n",
       "      <td>2018-10-17 15:33:13</td>\n",
       "      <td>1970-01-01 00:00:00</td>\n",
       "    </tr>\n",
       "    <tr>\n",
       "      <th>1</th>\n",
       "      <td>THANG.LAM@MSN.COM</td>\n",
       "      <td>THANG.LAM@MSN.COM</td>\n",
       "      <td>3520148</td>\n",
       "      <td>57faef401a00001f95cf925e</td>\n",
       "      <td>2018-10-17 19:03:11</td>\n",
       "      <td>2018-10-17 19:49:26</td>\n",
       "    </tr>\n",
       "    <tr>\n",
       "      <th>2</th>\n",
       "      <td>LUKTING@HOTMAIL.COM</td>\n",
       "      <td>LUKTING@HOTMAIL.COM</td>\n",
       "      <td>4827212</td>\n",
       "      <td>5806d0eb1d0000f3a33766b7</td>\n",
       "      <td>2018-10-17 19:02:11</td>\n",
       "      <td>1970-01-01 00:00:00</td>\n",
       "    </tr>\n",
       "    <tr>\n",
       "      <th>3</th>\n",
       "      <td>ELLENLEE927@GMAIL.COM</td>\n",
       "      <td>ELLENLEE927@GMAIL.COM</td>\n",
       "      <td>5722630</td>\n",
       "      <td>57c675c51e0000b949c46627</td>\n",
       "      <td>2018-10-17 19:02:04</td>\n",
       "      <td>2018-10-20 12:25:39</td>\n",
       "    </tr>\n",
       "    <tr>\n",
       "      <th>4</th>\n",
       "      <td>MAVISH012008@HOTMAIL.COM</td>\n",
       "      <td>0</td>\n",
       "      <td>5762816</td>\n",
       "      <td>0</td>\n",
       "      <td>1970-01-01 00:00:00</td>\n",
       "      <td>1970-01-01 00:00:00</td>\n",
       "    </tr>\n",
       "  </tbody>\n",
       "</table>\n",
       "</div>"
      ],
      "text/plain": [
       "               EmailAddress          SubscriberKey  CUSTOMER_ID  \\\n",
       "0          NOGUEL@YAHOO.COM       NOGUEL@YAHOO.COM      1394723   \n",
       "1         THANG.LAM@MSN.COM      THANG.LAM@MSN.COM      3520148   \n",
       "2       LUKTING@HOTMAIL.COM    LUKTING@HOTMAIL.COM      4827212   \n",
       "3     ELLENLEE927@GMAIL.COM  ELLENLEE927@GMAIL.COM      5722630   \n",
       "4  MAVISH012008@HOTMAIL.COM                      0      5762816   \n",
       "\n",
       "                 ACCOUNT_ID  SentDate_CST_FIRST ORDER_DATE_CST_FIRST  \n",
       "0  592dbda71d0000bf5f7129f1 2018-10-17 15:33:13  1970-01-01 00:00:00  \n",
       "1  57faef401a00001f95cf925e 2018-10-17 19:03:11  2018-10-17 19:49:26  \n",
       "2  5806d0eb1d0000f3a33766b7 2018-10-17 19:02:11  1970-01-01 00:00:00  \n",
       "3  57c675c51e0000b949c46627 2018-10-17 19:02:04  2018-10-20 12:25:39  \n",
       "4                         0 1970-01-01 00:00:00  1970-01-01 00:00:00  "
      ]
     },
     "execution_count": 35,
     "metadata": {},
     "output_type": "execute_result"
    }
   ],
   "source": [
    "days1.head()"
   ]
  },
  {
   "cell_type": "code",
   "execution_count": 39,
   "metadata": {},
   "outputs": [
    {
     "data": {
      "text/plain": [
       "EmailAddress                    object\n",
       "SubscriberKey                   object\n",
       "CUSTOMER_ID                      int64\n",
       "ACCOUNT_ID                      object\n",
       "SentDate_CST_FIRST      datetime64[ns]\n",
       "ORDER_DATE_CST_FIRST    datetime64[ns]\n",
       "Difference                       int64\n",
       "dtype: object"
      ]
     },
     "execution_count": 39,
     "metadata": {},
     "output_type": "execute_result"
    }
   ],
   "source": [
    "days1.dtypes"
   ]
  },
  {
   "cell_type": "code",
   "execution_count": null,
   "metadata": {},
   "outputs": [],
   "source": [
    "days1 = days"
   ]
  },
  {
   "cell_type": "code",
   "execution_count": null,
   "metadata": {},
   "outputs": [],
   "source": [
    "days1['SentDate_CST_FIRST','ORDER_DATE_CST_FIRST'] = days1['SentDate_CST_FIRST','ORDER_DATE_CST_FIRST'].fillna(value = 0, inplace = True)"
   ]
  },
  {
   "cell_type": "code",
   "execution_count": 33,
   "metadata": {},
   "outputs": [],
   "source": [
    "days1['SentDate_CST_FIRST'] = pd.to_datetime(days['SentDate_CST_FIRST'])\n",
    "days1['ORDER_DATE_CST_FIRST'] = pd.to_datetime(days['ORDER_DATE_CST_FIRST'])"
   ]
  },
  {
   "cell_type": "code",
   "execution_count": null,
   "metadata": {},
   "outputs": [],
   "source": [
    "days1.dtypes"
   ]
  },
  {
   "cell_type": "code",
   "execution_count": 38,
   "metadata": {},
   "outputs": [],
   "source": [
    "days1['Difference'] = (days1['ORDER_DATE_CST_FIRST'] - days1['SentDate_CST_FIRST']).dt.days"
   ]
  },
  {
   "cell_type": "code",
   "execution_count": 37,
   "metadata": {},
   "outputs": [
    {
     "data": {
      "text/html": [
       "<div>\n",
       "<style scoped>\n",
       "    .dataframe tbody tr th:only-of-type {\n",
       "        vertical-align: middle;\n",
       "    }\n",
       "\n",
       "    .dataframe tbody tr th {\n",
       "        vertical-align: top;\n",
       "    }\n",
       "\n",
       "    .dataframe thead th {\n",
       "        text-align: right;\n",
       "    }\n",
       "</style>\n",
       "<table border=\"1\" class=\"dataframe\">\n",
       "  <thead>\n",
       "    <tr style=\"text-align: right;\">\n",
       "      <th></th>\n",
       "      <th>EmailAddress</th>\n",
       "      <th>SubscriberKey</th>\n",
       "      <th>CUSTOMER_ID</th>\n",
       "      <th>ACCOUNT_ID</th>\n",
       "      <th>SentDate_CST_FIRST</th>\n",
       "      <th>ORDER_DATE_CST_FIRST</th>\n",
       "      <th>Difference</th>\n",
       "    </tr>\n",
       "  </thead>\n",
       "  <tbody>\n",
       "    <tr>\n",
       "      <th>0</th>\n",
       "      <td>NOGUEL@YAHOO.COM</td>\n",
       "      <td>NOGUEL@YAHOO.COM</td>\n",
       "      <td>1394723</td>\n",
       "      <td>592dbda71d0000bf5f7129f1</td>\n",
       "      <td>2018-10-17 15:33:13</td>\n",
       "      <td>1970-01-01 00:00:00</td>\n",
       "      <td>-17822</td>\n",
       "    </tr>\n",
       "    <tr>\n",
       "      <th>1</th>\n",
       "      <td>THANG.LAM@MSN.COM</td>\n",
       "      <td>THANG.LAM@MSN.COM</td>\n",
       "      <td>3520148</td>\n",
       "      <td>57faef401a00001f95cf925e</td>\n",
       "      <td>2018-10-17 19:03:11</td>\n",
       "      <td>2018-10-17 19:49:26</td>\n",
       "      <td>0</td>\n",
       "    </tr>\n",
       "    <tr>\n",
       "      <th>2</th>\n",
       "      <td>LUKTING@HOTMAIL.COM</td>\n",
       "      <td>LUKTING@HOTMAIL.COM</td>\n",
       "      <td>4827212</td>\n",
       "      <td>5806d0eb1d0000f3a33766b7</td>\n",
       "      <td>2018-10-17 19:02:11</td>\n",
       "      <td>1970-01-01 00:00:00</td>\n",
       "      <td>-17822</td>\n",
       "    </tr>\n",
       "    <tr>\n",
       "      <th>3</th>\n",
       "      <td>ELLENLEE927@GMAIL.COM</td>\n",
       "      <td>ELLENLEE927@GMAIL.COM</td>\n",
       "      <td>5722630</td>\n",
       "      <td>57c675c51e0000b949c46627</td>\n",
       "      <td>2018-10-17 19:02:04</td>\n",
       "      <td>2018-10-20 12:25:39</td>\n",
       "      <td>2</td>\n",
       "    </tr>\n",
       "    <tr>\n",
       "      <th>4</th>\n",
       "      <td>MAVISH012008@HOTMAIL.COM</td>\n",
       "      <td>0</td>\n",
       "      <td>5762816</td>\n",
       "      <td>0</td>\n",
       "      <td>1970-01-01 00:00:00</td>\n",
       "      <td>1970-01-01 00:00:00</td>\n",
       "      <td>0</td>\n",
       "    </tr>\n",
       "  </tbody>\n",
       "</table>\n",
       "</div>"
      ],
      "text/plain": [
       "               EmailAddress          SubscriberKey  CUSTOMER_ID  \\\n",
       "0          NOGUEL@YAHOO.COM       NOGUEL@YAHOO.COM      1394723   \n",
       "1         THANG.LAM@MSN.COM      THANG.LAM@MSN.COM      3520148   \n",
       "2       LUKTING@HOTMAIL.COM    LUKTING@HOTMAIL.COM      4827212   \n",
       "3     ELLENLEE927@GMAIL.COM  ELLENLEE927@GMAIL.COM      5722630   \n",
       "4  MAVISH012008@HOTMAIL.COM                      0      5762816   \n",
       "\n",
       "                 ACCOUNT_ID  SentDate_CST_FIRST ORDER_DATE_CST_FIRST  \\\n",
       "0  592dbda71d0000bf5f7129f1 2018-10-17 15:33:13  1970-01-01 00:00:00   \n",
       "1  57faef401a00001f95cf925e 2018-10-17 19:03:11  2018-10-17 19:49:26   \n",
       "2  5806d0eb1d0000f3a33766b7 2018-10-17 19:02:11  1970-01-01 00:00:00   \n",
       "3  57c675c51e0000b949c46627 2018-10-17 19:02:04  2018-10-20 12:25:39   \n",
       "4                         0 1970-01-01 00:00:00  1970-01-01 00:00:00   \n",
       "\n",
       "   Difference  \n",
       "0      -17822  \n",
       "1           0  \n",
       "2      -17822  \n",
       "3           2  \n",
       "4           0  "
      ]
     },
     "execution_count": 37,
     "metadata": {},
     "output_type": "execute_result"
    }
   ],
   "source": [
    "days1.head()"
   ]
  }
 ],
 "metadata": {
  "kernelspec": {
   "display_name": "Python 3",
   "language": "python",
   "name": "python3"
  },
  "language_info": {
   "codemirror_mode": {
    "name": "ipython",
    "version": 3
   },
   "file_extension": ".py",
   "mimetype": "text/x-python",
   "name": "python",
   "nbconvert_exporter": "python",
   "pygments_lexer": "ipython3",
   "version": "3.6.4"
  }
 },
 "nbformat": 4,
 "nbformat_minor": 2
}
