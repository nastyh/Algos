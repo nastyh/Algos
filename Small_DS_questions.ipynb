{
 "cells": [
  {
   "cell_type": "markdown",
   "metadata": {},
   "source": [
    "#### Returns elements that are in both lists"
   ]
  },
  {
   "cell_type": "code",
   "execution_count": 7,
   "metadata": {},
   "outputs": [],
   "source": [
    "def list_sum(alist, blist):\n",
    "    c = []\n",
    "    for i in range(len(alist)):\n",
    "        for j in range(len(blist)):\n",
    "            if alist[i]==blist[j]:\n",
    "                c.append(alist[i])\n",
    "    return c\n",
    "        "
   ]
  },
  {
   "cell_type": "code",
   "execution_count": 9,
   "metadata": {},
   "outputs": [
    {
     "data": {
      "text/plain": [
       "[11, 5]"
      ]
     },
     "execution_count": 9,
     "metadata": {},
     "output_type": "execute_result"
    }
   ],
   "source": [
    "a = [3,7,11,5]\n",
    "b = [6, 5, 11]\n",
    "list_sum(a,b)"
   ]
  },
  {
   "cell_type": "markdown",
   "metadata": {},
   "source": [
    "#### Binary search on the sorted array"
   ]
  },
  {
   "cell_type": "code",
   "execution_count": 25,
   "metadata": {},
   "outputs": [],
   "source": [
    "def bin_s(alist, value):\n",
    "    first = 0\n",
    "    last = len(alist)\n",
    "    found = False\n",
    "    while found:\n",
    "        middle = (first + last) / 2\n",
    "        if value == middle:\n",
    "            found = True\n",
    "        elif value < middle:\n",
    "            last = middle - 1     \n",
    "        else:\n",
    "            first = middle + 1\n",
    "    return alist.index(value)   \n"
   ]
  },
  {
   "cell_type": "code",
   "execution_count": 30,
   "metadata": {},
   "outputs": [
    {
     "data": {
      "text/plain": [
       "1"
      ]
     },
     "execution_count": 30,
     "metadata": {},
     "output_type": "execute_result"
    }
   ],
   "source": [
    "a = [3,4,5,6,7]\n",
    "v = 4\n",
    "bin_s(a,v)"
   ]
  },
  {
   "cell_type": "markdown",
   "metadata": {},
   "source": [
    "#### Same recursively"
   ]
  },
  {
   "cell_type": "code",
   "execution_count": 31,
   "metadata": {},
   "outputs": [],
   "source": [
    "def bin_s_rec(alist, value):\n",
    "    first = 0\n",
    "    last = len(alist)\n",
    "    found = False\n",
    "    while found:\n",
    "        middle = (first+last) / 2 \n",
    "        if value == middle:\n",
    "            found = True\n",
    "        elif value < middle:\n",
    "            last = middle - 1\n",
    "            bin_s_rec(alist[first:last], value)\n",
    "        else:\n",
    "            first = middle + 1\n",
    "            bin_s_rec(alist[first:last], value)\n",
    "    return alist.index(value)"
   ]
  },
  {
   "cell_type": "code",
   "execution_count": 34,
   "metadata": {},
   "outputs": [
    {
     "data": {
      "text/plain": [
       "6"
      ]
     },
     "execution_count": 34,
     "metadata": {},
     "output_type": "execute_result"
    }
   ],
   "source": [
    "a = [3,4,5,6,7,12,16]\n",
    "v = 16\n",
    "bin_s_rec(a,v)"
   ]
  },
  {
   "cell_type": "markdown",
   "metadata": {},
   "source": [
    "#### Bubble sort"
   ]
  },
  {
   "cell_type": "code",
   "execution_count": 25,
   "metadata": {},
   "outputs": [],
   "source": [
    "def b_sort(alist):\n",
    "    for i in range(len(alist)):\n",
    "        for j in range(len(alist)):\n",
    "            if alist[i] < alist[j]:\n",
    "                alist[i], alist[j] = alist[j], alist[i]\n",
    "    return alist"
   ]
  },
  {
   "cell_type": "code",
   "execution_count": 31,
   "metadata": {},
   "outputs": [],
   "source": [
    "def b_sort2(alist):\n",
    "    for i in range(len(alist)):\n",
    "        for j in range(len(alist)-i-1):\n",
    "            if alist[j] > alist[j+1]:\n",
    "                alist[j], alist[j+1] = alist[j+1], alist[j]\n",
    "    return alist"
   ]
  },
  {
   "cell_type": "code",
   "execution_count": 29,
   "metadata": {},
   "outputs": [
    {
     "data": {
      "text/plain": [
       "[1, 2, 3, 4, 6, 11, 24, 31]"
      ]
     },
     "execution_count": 29,
     "metadata": {},
     "output_type": "execute_result"
    }
   ],
   "source": [
    "a=[6,4,11,1,2,31,24,3]\n",
    "b_sort(a)"
   ]
  },
  {
   "cell_type": "code",
   "execution_count": 32,
   "metadata": {},
   "outputs": [
    {
     "data": {
      "text/plain": [
       "[1, 2, 3, 4, 6, 11, 24, 31]"
      ]
     },
     "execution_count": 32,
     "metadata": {},
     "output_type": "execute_result"
    }
   ],
   "source": [
    "b_sort2(a)"
   ]
  },
  {
   "cell_type": "markdown",
   "metadata": {},
   "source": [
    "#### Merge Sort"
   ]
  },
  {
   "cell_type": "code",
   "execution_count": null,
   "metadata": {},
   "outputs": [],
   "source": [
    "def merge_both(l,r):  # first a function that compares and merges two arrays\n",
    "    result = []\n",
    "    i,j = 0,0\n",
    "    while i < len(l) and j < len(r):\n",
    "        if l[i] <= r[j]:\n",
    "            result.append(l[i])\n",
    "            i+=i\n",
    "        else:\n",
    "            result.append(r[j])\n",
    "            j+=j\n",
    "    result += l[i:]\n",
    "    result += r[j:]\n",
    "    return result\n",
    "        \n",
    "        \n",
    "        \n",
    "def m_sort(alist):   # mergesort itself \n",
    "    left, right = 0,0 \n",
    "    if len(alist)<=1:\n",
    "        return alist\n",
    "    middle = int(len(alist) / 2)\n",
    "    left = m_sort(alist[:middle])\n",
    "    right = m_sort(alist[middle:])\n",
    "    return merge_both(left,right)\n",
    "    "
   ]
  },
  {
   "cell_type": "code",
   "execution_count": null,
   "metadata": {},
   "outputs": [],
   "source": [
    "a = [55,2,42,10,16,3,13]\n",
    "print(m_sort(a))"
   ]
  },
  {
   "cell_type": "markdown",
   "metadata": {},
   "source": [
    "#### Turning numbers in binary"
   ]
  },
  {
   "cell_type": "code",
   "execution_count": 81,
   "metadata": {},
   "outputs": [],
   "source": [
    "def binary(value):\n",
    "    st = []\n",
    "    num = 0\n",
    "    rem = 0\n",
    "    while value > 0:\n",
    "        value = int(value / 2)\n",
    "        rem = value % 2 \n",
    "        st.append(rem)      \n",
    "    st.reverse()   \n",
    "    for i in st:\n",
    "        print(i, end = '')\n",
    "        "
   ]
  },
  {
   "cell_type": "code",
   "execution_count": 82,
   "metadata": {},
   "outputs": [
    {
     "name": "stdout",
     "output_type": "stream",
     "text": [
      "0101"
     ]
    }
   ],
   "source": [
    "binary(11)\n"
   ]
  },
  {
   "cell_type": "markdown",
   "metadata": {},
   "source": [
    "#### Is a palindrome"
   ]
  },
  {
   "cell_type": "code",
   "execution_count": 1,
   "metadata": {},
   "outputs": [],
   "source": [
    "def is_pal(alist):\n",
    "    \n",
    "    for i in range(0,int(len(alist)/2)):\n",
    "        if alist[i] == alist[len(alist)-i-1]:\n",
    "            \n",
    "            return True\n",
    "        else: \n",
    "            \n",
    "            return False"
   ]
  },
  {
   "cell_type": "code",
   "execution_count": 4,
   "metadata": {},
   "outputs": [
    {
     "data": {
      "text/plain": [
       "True"
      ]
     },
     "execution_count": 4,
     "metadata": {},
     "output_type": "execute_result"
    }
   ],
   "source": [
    "v=[5,4,4,5]\n",
    "is_pal(v)"
   ]
  },
  {
   "cell_type": "markdown",
   "metadata": {},
   "source": [
    "#### Reverse array"
   ]
  },
  {
   "cell_type": "code",
   "execution_count": 22,
   "metadata": {},
   "outputs": [],
   "source": [
    "def Rev(alist):\n",
    "    for i in range(len(alist)//2): # b/c the left half will be swapped with the second half\n",
    "        swap = len(alist) - i - 1 # last current item. For the first iteration: len minus zero minus 1 equals 3. Third element in the list with four items is the last element\n",
    "        alist[i], alist[swap] = alist[swap], alist[i]\n",
    "    print(alist)"
   ]
  },
  {
   "cell_type": "code",
   "execution_count": 23,
   "metadata": {},
   "outputs": [
    {
     "name": "stdout",
     "output_type": "stream",
     "text": [
      "[4, 6, 5, 3]\n"
     ]
    }
   ],
   "source": [
    "b = [3,5,6,4]\n",
    "Rev(b)"
   ]
  },
  {
   "cell_type": "markdown",
   "metadata": {},
   "source": [
    "#### Fibonacci numbers"
   ]
  },
  {
   "cell_type": "code",
   "execution_count": 25,
   "metadata": {},
   "outputs": [],
   "source": [
    "\"\"\"Returns the first n Fibonacci numbers\"\"\"\n",
    "def fib(n):\n",
    "    if n==1 or n==2:\n",
    "        return 1\n",
    "    else:\n",
    "        return fib(n-1) + fib(n-2)"
   ]
  },
  {
   "cell_type": "code",
   "execution_count": 28,
   "metadata": {},
   "outputs": [
    {
     "name": "stdout",
     "output_type": "stream",
     "text": [
      "1\n",
      "1\n",
      "2\n",
      "3\n",
      "5\n"
     ]
    }
   ],
   "source": [
    "for i in range(1,6):\n",
    "    print(fib(i))"
   ]
  },
  {
   "cell_type": "markdown",
   "metadata": {},
   "source": [
    "#### Multiplication"
   ]
  },
  {
   "cell_type": "code",
   "execution_count": 30,
   "metadata": {},
   "outputs": [],
   "source": [
    "\"\"\"Take two numbers. Add number a to itself b times\"\"\"\n",
    "def ss(a,b):\n",
    "    s = 0\n",
    "    for i in range(b):\n",
    "        s = s+a\n",
    "    return s"
   ]
  },
  {
   "cell_type": "code",
   "execution_count": 31,
   "metadata": {},
   "outputs": [
    {
     "data": {
      "text/plain": [
       "12"
      ]
     },
     "execution_count": 31,
     "metadata": {},
     "output_type": "execute_result"
    }
   ],
   "source": [
    "ss(3,4)"
   ]
  },
  {
   "cell_type": "markdown",
   "metadata": {},
   "source": [
    "#### To the power"
   ]
  },
  {
   "cell_type": "code",
   "execution_count": 34,
   "metadata": {},
   "outputs": [],
   "source": [
    "\"\"\"Takes the base and to the power of p\"\"\"\n",
    "def pow(base, p):\n",
    "    s = 1\n",
    "    for i in range(p):\n",
    "        s = s*base\n",
    "    return s"
   ]
  },
  {
   "cell_type": "code",
   "execution_count": 36,
   "metadata": {},
   "outputs": [
    {
     "data": {
      "text/plain": [
       "9"
      ]
     },
     "execution_count": 36,
     "metadata": {},
     "output_type": "execute_result"
    }
   ],
   "source": [
    "pow(3,2)"
   ]
  },
  {
   "cell_type": "markdown",
   "metadata": {},
   "source": [
    "#### Retuns the remainder"
   ]
  },
  {
   "cell_type": "code",
   "execution_count": 39,
   "metadata": {},
   "outputs": [],
   "source": [
    "\"\"\"a//b = c + d\n",
    "a = 17, b = 3. ==> c = 17 // 3 == 5. a minus c times b = 17 - 5*3 = 2\n",
    "\"\"\"\n",
    "def rd(a,b):\n",
    "    if b<0:\n",
    "        return -1\n",
    "    else:\n",
    "        c = a // b\n",
    "        return a - b*c"
   ]
  },
  {
   "cell_type": "code",
   "execution_count": 40,
   "metadata": {},
   "outputs": [
    {
     "data": {
      "text/plain": [
       "2"
      ]
     },
     "execution_count": 40,
     "metadata": {},
     "output_type": "execute_result"
    }
   ],
   "source": [
    "rd(17,3)"
   ]
  },
  {
   "cell_type": "markdown",
   "metadata": {},
   "source": [
    "### Linked List"
   ]
  },
  {
   "cell_type": "code",
   "execution_count": null,
   "metadata": {},
   "outputs": [],
   "source": [
    "#Start with creating a node\n",
    "class node: # subclass of the linked list that is created below. You never see it\n",
    "    def __init__(self, data=None):\n",
    "        self.data = data\n",
    "        self.next=None  #it's a node that doesn't point anywhere. The last element will also have a pointer set to None\n",
    "\n",
    "class linked_list:\n",
    "    def __init__(self):\n",
    "        self.head = node() # the head node never contains the actual data. \n",
    "\n",
    "def append(self, data):\n",
    "    new_node = node(data)\n",
    "    if self.head is None:\n",
    "        self.head = new_node\n",
    "        return\n",
    "    \n",
    "    last_node = self.head\n",
    "    while last_node.next:\n",
    "        last_node = last_node.next\n",
    "    last.node.next = new_node\n",
    "    \n",
    "def print_list(self):\n",
    "    cur_node = self.head\n",
    "    while cur_node:\n",
    "        print(cur_node.data)\n",
    "    cur_node = cur_node.next\n",
    "\n",
    "llist = linked_list()\n",
    "llist.append(\"A\")\n",
    "llist.append(\"B\")\n",
    "llist.print_list()\n",
    "  "
   ]
  },
  {
   "cell_type": "code",
   "execution_count": 13,
   "metadata": {},
   "outputs": [],
   "source": [
    "def insert_after_node(self, prev_node, data):\n",
    "    if not prev_node:\n",
    "        print(\"Can't insert after a non-existing node\")\n",
    "        return\n",
    "    new_node = node(data)\n",
    "    new_node.next = prev_node.next\n",
    "    prev_node.next = new_node"
   ]
  },
  {
   "cell_type": "code",
   "execution_count": null,
   "metadata": {},
   "outputs": [],
   "source": [
    "llist.insert_after_node(llist.head.next,\"E\")"
   ]
  },
  {
   "cell_type": "markdown",
   "metadata": {},
   "source": [
    "### Binary search tree"
   ]
  },
  {
   "cell_type": "code",
   "execution_count": 18,
   "metadata": {},
   "outputs": [],
   "source": [
    "class Node(object):  #as with the linked list, first create a node\n",
    "    def __init__(self,value):\n",
    "        self.value = value\n",
    "        self.left = self.right = None #instead of the next, define left and right\n",
    "\n",
    "class BinaryTree(object): # the tree itself\n",
    "    def __init__(self,root):\n",
    "        self.root = Node(root) #initializing the top, a.k.a. the root as a Node class\n",
    "\n",
    "btree = BinaryTree(1) # putting the initial value \n",
    "btree.root.left = Node(2)\n",
    "btree.root.right = Node(3)\n",
    "btree.root.left.left = Node(4)\n",
    "btree.root.left.right = Node(5)\n",
    "btree.root.right = Node(6)\n",
    "btree.root.right.right = Node(7)\n"
   ]
  },
  {
   "cell_type": "code",
   "execution_count": null,
   "metadata": {},
   "outputs": [],
   "source": [
    "# traversals. Trees can be traversed in different ways\n",
    "# Depth-first order: in-order, pre-order, post-order\n",
    "\n",
    "def preorder_print(self, start, traversal):\n",
    "    if start:\n",
    "        traversal +=(str(start.value) + \"-\")\n",
    "        traversal = self.preorder_print(start.left, traversal)\n",
    "        traversal = self.preorder_print(start.right, traversal)\n",
    "    return traversal\n",
    "\n",
    "def print_tree(self, traversal_type):\n",
    "    if traversal_type == 'preorder':\n",
    "        return self.preorder_print(btree.root,\"\")\n",
    "    \n",
    "print(btree.print_tree(\"preorder\"))"
   ]
  },
  {
   "cell_type": "markdown",
   "metadata": {},
   "source": [
    "#### Multiply two largest elements "
   ]
  },
  {
   "cell_type": "code",
   "execution_count": 14,
   "metadata": {},
   "outputs": [],
   "source": [
    "# Multiplies two largest elemets from the list\n",
    "def mult_2(alist):\n",
    "    def sec_larg(alist):\n",
    "        first, second = 0, 0\n",
    "        for n in alist:\n",
    "            if n > first:\n",
    "                first, second = n, first \n",
    "            elif first > n > second:\n",
    "                    second = n\n",
    "        return second \n",
    "                \n",
    "            \n",
    "    m1 = max(alist) # the largest element\n",
    "    m2 = sec_larg(alist) # the second largest element is found by using an inner function\n",
    "    return m1*m2\n",
    "    "
   ]
  },
  {
   "cell_type": "code",
   "execution_count": 16,
   "metadata": {},
   "outputs": [
    {
     "data": {
      "text/plain": [
       "473"
      ]
     },
     "execution_count": 16,
     "metadata": {},
     "output_type": "execute_result"
    }
   ],
   "source": [
    "b=[4,5,43,11]\n",
    "mult_2(b)"
   ]
  },
  {
   "cell_type": "markdown",
   "metadata": {},
   "source": [
    "#### String transformation"
   ]
  },
  {
   "cell_type": "code",
   "execution_count": 18,
   "metadata": {},
   "outputs": [],
   "source": [
    "\"\"\"\n",
    "Take string aabbbd, return a2b3d1. If the new string is longer than the old string, return the original\n",
    "aacbbbd gives a2c1b3d1 and it's longer. Return aacbbbd instead\n",
    "\"\"\"\n",
    "def str_fre(st):\n",
    "    d = [] # empty list\n",
    "    cnt = 0 # counter\n",
    "    prv = st[0] # prev symbols equals the first string element\n",
    "    for n in st: #looping thru the string \n",
    "        if n == prv: #if current element = previous\n",
    "            cnt +=1\n",
    "        else:\n",
    "            d += prv + str(cnt) #add to the list the element and the counter transformed into a string\n",
    "            prv = n\n",
    "            cnt = 1\n",
    "    d += prv + str(cnt) #need to repeat it for cases when we never enter the else statement\n",
    "    d = ''.join(d)\n",
    "    if len(d) < len(st):\n",
    "        return d\n",
    "    else:\n",
    "        return st\n",
    "            "
   ]
  },
  {
   "cell_type": "code",
   "execution_count": 20,
   "metadata": {},
   "outputs": [
    {
     "data": {
      "text/plain": [
       "'aacvvvd'"
      ]
     },
     "execution_count": 20,
     "metadata": {},
     "output_type": "execute_result"
    }
   ],
   "source": [
    "g = \"aacvvvd\"\n",
    "str_fre(g)"
   ]
  },
  {
   "cell_type": "markdown",
   "metadata": {},
   "source": [
    "#### Check if string has unique characters"
   ]
  },
  {
   "cell_type": "code",
   "execution_count": 21,
   "metadata": {},
   "outputs": [],
   "source": [
    "\"\"\"\n",
    "'abc' gives True because all elements are unique\n",
    "'return' gives False because \"r\" is repeated twice\n",
    "\"\"\"\n",
    "def un(st): #set only contains unique elements. Turn your string into a set, and it'll only store unique elements.\n",
    "    if len(set(st)) == len(st): # Then check whether the length of the set equals to string's. \n",
    "        return True\n",
    "    else: return False"
   ]
  },
  {
   "cell_type": "code",
   "execution_count": 23,
   "metadata": {},
   "outputs": [
    {
     "data": {
      "text/plain": [
       "False"
      ]
     },
     "execution_count": 23,
     "metadata": {},
     "output_type": "execute_result"
    }
   ],
   "source": [
    "b=\"abc\"\n",
    "n=\"return\"\n",
    "un(n)"
   ]
  },
  {
   "cell_type": "markdown",
   "metadata": {},
   "source": [
    "#### Is one string a permutation of another"
   ]
  },
  {
   "cell_type": "code",
   "execution_count": 27,
   "metadata": {},
   "outputs": [],
   "source": [
    "\"\"\"\n",
    "'driving' and 'drivign' return True\n",
    "'driving' and 'dddrivin' return False\n",
    "\"\"\"\n",
    "def is_perm(st1, st2):\n",
    "    st1 = st1.replace(\" \",\"\") #remove spaces \n",
    "    st2 = st2.replace(\" \",\"\")\n",
    "    \n",
    "    if len(st1) != len(st2): return False # if different lengths, not permutations \n",
    "    else:\n",
    "        for i in st1: #loop thru the first string\n",
    "            if i in st2:\n",
    "                st2 = st2.replace(i,\"\") #remove from the second string all elements that are also in the first string\n",
    "        return len(st2) == 0 # if nothing is left, it means that every element in the second string has been removed b/c it was found in the first string\n",
    "    \n",
    "    "
   ]
  },
  {
   "cell_type": "code",
   "execution_count": 28,
   "metadata": {},
   "outputs": [
    {
     "data": {
      "text/plain": [
       "True"
      ]
     },
     "execution_count": 28,
     "metadata": {},
     "output_type": "execute_result"
    }
   ],
   "source": [
    "r=\"driving\"\n",
    "t=\"drivign\"\n",
    "is_perm(r,t)"
   ]
  },
  {
   "cell_type": "markdown",
   "metadata": {},
   "source": [
    "#### Same thing but with a dictionary"
   ]
  },
  {
   "cell_type": "code",
   "execution_count": null,
   "metadata": {},
   "outputs": [],
   "source": []
  },
  {
   "cell_type": "code",
   "execution_count": null,
   "metadata": {},
   "outputs": [],
   "source": [
    "\"\"\"\n",
    "2. Output the list of quarters, given the list of string dates EX: \"2018-09-27\" Output : Q3\n",
    "3. Given 2 circle with centres and radius , output the if the circle are touching each other or not.\n",
    "If you have a table with names and ages that contains some duplicates, how would you return all duplicates? Answer in SQL\n",
    "\n",
    "\"\"\""
   ]
  },
  {
   "cell_type": "code",
   "execution_count": 3,
   "metadata": {},
   "outputs": [],
   "source": [
    "# Output the list of quarters, given the list of string dates EX: \"2018-09-27\" Output : Q3\n",
    "\n",
    "def quarters():\n",
    "    import pandas as pd\n",
    "    date_entry = input('Enter a date in YYYYMMDD format')\n",
    "    ts = pd.Timestamp(pd.to_datetime(date_entry,format='%Y%m%d'))\n",
    "    return \"Q{}\".format(ts.quarter)\n",
    "    "
   ]
  },
  {
   "cell_type": "code",
   "execution_count": 5,
   "metadata": {},
   "outputs": [
    {
     "name": "stdin",
     "output_type": "stream",
     "text": [
      "Enter a date in YYYYMMDD format 20191111\n"
     ]
    },
    {
     "data": {
      "text/plain": [
       "'Q4'"
      ]
     },
     "execution_count": 5,
     "metadata": {},
     "output_type": "execute_result"
    }
   ],
   "source": [
    "quarters()"
   ]
  },
  {
   "cell_type": "code",
   "execution_count": 18,
   "metadata": {},
   "outputs": [],
   "source": [
    "# Same but with hardcoding\n",
    "def quarters_hardcoded():\n",
    "    date_entry=input(\"Enter a date in a YYYY-MM-DD format\")\n",
    "    year, month, day = map(int, date_entry.split('-'))\n",
    "    return 'Q1' if month>=1 and month<=3 else 'Q2' if month>=4 and month <=6 else 'Q3' if month >=7 and month <=9 else 'Q4'\\\n",
    "    if month>=10 and month<=12 else 'Your month should be between 1 and 12'\n",
    "    "
   ]
  },
  {
   "cell_type": "code",
   "execution_count": 20,
   "metadata": {},
   "outputs": [
    {
     "name": "stdin",
     "output_type": "stream",
     "text": [
      "Enter a date in a YYYY-MM-DD format 2018-44-32\n"
     ]
    },
    {
     "data": {
      "text/plain": [
       "'Your month should be between 1 and 12'"
      ]
     },
     "execution_count": 20,
     "metadata": {},
     "output_type": "execute_result"
    }
   ],
   "source": [
    "quarters_hardcoded()"
   ]
  },
  {
   "cell_type": "code",
   "execution_count": 41,
   "metadata": {},
   "outputs": [],
   "source": [
    "# Given two strings, write a method to decide if one is a permutation of another\n",
    "def perm(str1, str2):\n",
    "    if len(str1) != len(str2):\n",
    "        return False \n",
    "    return sorted(str1) == sorted(str2)"
   ]
  },
  {
   "cell_type": "code",
   "execution_count": 42,
   "metadata": {},
   "outputs": [
    {
     "data": {
      "text/plain": [
       "True"
      ]
     },
     "execution_count": 42,
     "metadata": {},
     "output_type": "execute_result"
    }
   ],
   "source": [
    "perm('framingham','mahframgni')"
   ]
  },
  {
   "cell_type": "code",
   "execution_count": 43,
   "metadata": {},
   "outputs": [
    {
     "data": {
      "text/plain": [
       "False"
      ]
     },
     "execution_count": 43,
     "metadata": {},
     "output_type": "execute_result"
    }
   ],
   "source": [
    "perm('abhr','rhbb')"
   ]
  },
  {
   "cell_type": "code",
   "execution_count": 96,
   "metadata": {},
   "outputs": [],
   "source": [
    "\"\"\"\n",
    "String Compression: Implement a method to perform basic string compression using the counts of repeated characters. \n",
    "For example, the string \"aabcccccaaa\" would become a2b1c5a3. If the \"compressed\" string would not become smaller than \n",
    "the original string, your method should return the original string. You can assume the string has only uppercase \n",
    "and lowercase letters (a-z).\n",
    "\"\"\"\n",
    "def str_comp(st):\n",
    "    c = 1\n",
    "    st2 = ''\n",
    "    for i in range(len(st)-1):\n",
    "        if st[i]==st[i+1]:\n",
    "            c+=1\n",
    "        else:\n",
    "            st2 += st[i]+str(c)\n",
    "            c=1\n",
    "    st2 += st[i]+str(c)\n",
    "    return st2 if len(st2)<=len(st) else st"
   ]
  },
  {
   "cell_type": "code",
   "execution_count": 97,
   "metadata": {},
   "outputs": [
    {
     "data": {
      "text/plain": [
       "'a3b1c4'"
      ]
     },
     "execution_count": 97,
     "metadata": {},
     "output_type": "execute_result"
    }
   ],
   "source": [
    "str_comp('aaabcccc')"
   ]
  },
  {
   "cell_type": "code",
   "execution_count": 121,
   "metadata": {},
   "outputs": [],
   "source": [
    "\"\"\"\n",
    "Replace all spaces in the string with %20 and print out the new string\n",
    "Example 'Good morning everyone' becomes 'Good%20morning%20everyone'\n",
    "\"\"\"\n",
    "def repl(st):\n",
    "    st1 = ''\n",
    "    for i in range(len(st)):\n",
    "        if st[i] == ' ':\n",
    "            st1 += str('%20')\n",
    "        else:\n",
    "            st1+=st[i]\n",
    "    return st1"
   ]
  },
  {
   "cell_type": "code",
   "execution_count": 122,
   "metadata": {},
   "outputs": [
    {
     "data": {
      "text/plain": [
       "'Good%20morning%20everyone'"
      ]
     },
     "execution_count": 122,
     "metadata": {},
     "output_type": "execute_result"
    }
   ],
   "source": [
    "repl('Good morning everyone')"
   ]
  },
  {
   "cell_type": "code",
   "execution_count": 119,
   "metadata": {},
   "outputs": [],
   "source": [
    "# using replace\n",
    "def repl1(st):\n",
    "    return st.replace(\" \",\"%20\")"
   ]
  },
  {
   "cell_type": "code",
   "execution_count": 120,
   "metadata": {},
   "outputs": [
    {
     "data": {
      "text/plain": [
       "'Good%20morning%20everyone'"
      ]
     },
     "execution_count": 120,
     "metadata": {},
     "output_type": "execute_result"
    }
   ],
   "source": [
    "repl1('Good morning everyone')"
   ]
  },
  {
   "cell_type": "code",
   "execution_count": 125,
   "metadata": {},
   "outputs": [],
   "source": [
    "\"\"\"\n",
    "String Rotation: Given two strings, s1 and s2, write code to check if s2 is a rotation of s1\n",
    "(e.g. \"waterbottle\" is a rotation of \"erbottlewat\").\n",
    "\"\"\"\n",
    "\n",
    "def is_rotation(st1, st2):\n",
    "    if len(st1) != len(st2):\n",
    "        return False\n",
    "    d1 = {}\n",
    "    d2 = {}\n",
    "    for i in st1:\n",
    "        d1[i] = d1.get(i,0)+1\n",
    "    for j in st2:\n",
    "        d2[j] = d2.get(j,0)+1\n",
    "    return d1 == d2"
   ]
  },
  {
   "cell_type": "code",
   "execution_count": 129,
   "metadata": {},
   "outputs": [
    {
     "data": {
      "text/plain": [
       "True"
      ]
     },
     "execution_count": 129,
     "metadata": {},
     "output_type": "execute_result"
    }
   ],
   "source": [
    "is_rotation(\"waterbottle\", \"erbottlewat\")\n",
    "# is_rotation(\"watertables\",\"erbottlewat\")\n",
    "# is_rotation(\"watertales\",'lalal')"
   ]
  },
  {
   "cell_type": "code",
   "execution_count": 136,
   "metadata": {},
   "outputs": [],
   "source": [
    "\"\"\"\n",
    " Your input is an array of\n",
    "integers, and you have to reorder its entries so that the even entries appear first.\n",
    "\"\"\"\n",
    "\n",
    "def even_first(arr):\n",
    "    next_even , next_odd = 0, len(arr) - 1\n",
    "    while next_even < next_odd:\n",
    "        if arr[ next_even ] % 2 == 0:\n",
    "            next_even += 1\n",
    "        else:\n",
    "            arr[ next_even ], arr[next_odd] = arr[next_odd], arr[ next_even ]\n",
    "            next_odd -= 1\n",
    "    return arr"
   ]
  },
  {
   "cell_type": "markdown",
   "metadata": {},
   "source": [
    "\"\"\"\n",
    "SQL : a college maintains department info on one table and student info on a second table. \n",
    "    Write a query that shows number of students by major in descending order\n",
    "    \"\"\"\n",
    "\n",
    "\n",
    "dept_table:\n",
    "dept_id | major_id | major_name\n",
    "\n",
    "student_table:\n",
    "student_id | st_first_name | st_last_name | major_id\n",
    "\n",
    "select d.major_id, count(s.student_id) from dept_table d\n",
    " join student_table s on d.major_id = s.major_id \n",
    "group by d.major_id\n",
    "order by count(s.student_id) desc "
   ]
  },
  {
   "cell_type": "code",
   "execution_count": 144,
   "metadata": {},
   "outputs": [],
   "source": [
    "\"\"\"\n",
    "Given an array of dates in string format (e. g. '20050301') write a function \n",
    "that returns year and quarter (e. g. '20050301 =>' 2005Q1')  \n",
    "\"\"\"\n",
    "\n",
    "def return_q():\n",
    "    date_entry=input(\"Enter a date in a YYYYMMDD format\")\n",
    "    month = int(date_entry[4:6])\n",
    "    year = date_entry[:4]\n",
    "    return year+'Q1' if month>=1 and month<=3 else year+'Q2' if month>=4 and month <=6 else year+'Q3' if month >=7 and month <=9 else year+'Q4'\\\n",
    "    if month>=10 and month<=12 else 'Your month should be between 1 and 12'"
   ]
  },
  {
   "cell_type": "code",
   "execution_count": 145,
   "metadata": {},
   "outputs": [
    {
     "name": "stdin",
     "output_type": "stream",
     "text": [
      "Enter a date in a YYYYMMDD format 20180303\n"
     ]
    },
    {
     "data": {
      "text/plain": [
       "'2018Q1'"
      ]
     },
     "execution_count": 145,
     "metadata": {},
     "output_type": "execute_result"
    }
   ],
   "source": [
    "return_q()"
   ]
  },
  {
   "cell_type": "code",
   "execution_count": 143,
   "metadata": {},
   "outputs": [
    {
     "name": "stdout",
     "output_type": "stream",
     "text": [
      "2005\n"
     ]
    }
   ],
   "source": [
    "st1 = str('20051230')\n",
    "print(st1[:4])"
   ]
  },
  {
   "cell_type": "code",
   "execution_count": null,
   "metadata": {},
   "outputs": [],
   "source": [
    "\"\"\"\n",
    "remove an element from a linked list using iterator  \n",
    "\"\"\""
   ]
  },
  {
   "cell_type": "code",
   "execution_count": 137,
   "metadata": {},
   "outputs": [
    {
     "data": {
      "text/plain": [
       "[6, 4, 5, 3]"
      ]
     },
     "execution_count": 137,
     "metadata": {},
     "output_type": "execute_result"
    }
   ],
   "source": [
    "even_first([3,4,5,6])"
   ]
  },
  {
   "cell_type": "code",
   "execution_count": 130,
   "metadata": {},
   "outputs": [],
   "source": [
    "# Node swap in a linked list\n",
    "\n",
    "# implement a linked list first\n",
    "\n",
    "class node:\n",
    "    def __init__(self, data = None):\n",
    "        self.data = data\n",
    "        self.next = None\n",
    "\n",
    "class linked_list:\n",
    "    def __init__(self):\n",
    "        self.head = node()\n",
    "\n",
    "    def append(self,data):\n",
    "        new_node = node(data)\n",
    "        cur = self.head()\n",
    "        while cur.next != None:\n",
    "            cur = cur.next\n",
    "        cur.next = new_node()\n",
    "    \n",
    "    def length(self):\n",
    "        cur = self.head()\n",
    "        total = 0\n",
    "        while cur.next != None:\n",
    "            total+=1\n",
    "            cur = cur.next\n",
    "        return total\n",
    "    \n",
    "    def swap(self, el1, el2): \n",
    "        if el1 == el2:\n",
    "            return\n",
    "        prev_1 = None\n",
    "        curr_1 = self.head\n",
    "        while curr_1 and curr_1.data!=el1:\n",
    "            prev_1 = curr_1\n",
    "            curr_1 = curr_1.next\n",
    "        \n",
    "            "
   ]
  },
  {
   "cell_type": "code",
   "execution_count": null,
   "metadata": {},
   "outputs": [],
   "source": [
    "llist = linked_list()\n",
    "llist.append(\"a\")\n",
    "llist.append(\"b\")\n",
    "llist.append(\"c\")\n",
    "print(llist)"
   ]
  }
 ],
 "metadata": {
  "kernelspec": {
   "display_name": "Python 3",
   "language": "python",
   "name": "python3"
  },
  "language_info": {
   "codemirror_mode": {
    "name": "ipython",
    "version": 3
   },
   "file_extension": ".py",
   "mimetype": "text/x-python",
   "name": "python",
   "nbconvert_exporter": "python",
   "pygments_lexer": "ipython3",
   "version": "3.7.0"
  }
 },
 "nbformat": 4,
 "nbformat_minor": 4
}
