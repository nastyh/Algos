{
 "cells": [
  {
   "cell_type": "markdown",
   "metadata": {},
   "source": [
    "## <center>Implementation of major algorithms</center>"
   ]
  },
  {
   "cell_type": "markdown",
   "metadata": {},
   "source": [
    "### Binary Search"
   ]
  },
  {
   "cell_type": "code",
   "execution_count": 42,
   "metadata": {},
   "outputs": [],
   "source": [
    "def bin_search(alist, item):\n",
    "    first = 0 # index of the first item\n",
    "    last = len(alist)-1 # index of the last item \n",
    "    found = False \n",
    "    \n",
    "    while last >= first and not found:\n",
    "        middle = (first+last) // 2 # index of the middle item\n",
    "        if item == alist[middle]: # if item == the element in the middle\n",
    "            found = True\n",
    "            \n",
    "        else: \n",
    "            if item < alist[middle]: # if item < the element in the middle\n",
    "                last = middle -1 # make index of the last item 1 smaller that the index of the middle item\n",
    "            else: # if item > the element in the middle\n",
    "                first = middle + 1 # make index of the first element 1 bigger than the index of the middle item \n",
    "    return found\n",
    "        "
   ]
  },
  {
   "cell_type": "code",
   "execution_count": 43,
   "metadata": {},
   "outputs": [
    {
     "data": {
      "text/plain": [
       "True"
      ]
     },
     "execution_count": 43,
     "metadata": {},
     "output_type": "execute_result"
    }
   ],
   "source": [
    "b = [7,8,13,14,18,20]\n",
    "bin_search(b, 20)"
   ]
  },
  {
   "cell_type": "markdown",
   "metadata": {},
   "source": [
    "### Bubble Sort"
   ]
  },
  {
   "cell_type": "code",
   "execution_count": 72,
   "metadata": {},
   "outputs": [],
   "source": [
    "def bubble_s(alist):\n",
    "    sorted = False\n",
    "    while not sorted: \n",
    "        sorted = True\n",
    "        for i in range(len(alist)-1):\n",
    "            if alist[i] > alist[i+1]:\n",
    "                sorted = False\n",
    "                alist[i], alist[i+1] = alist[i+1], alist[i]\n",
    "                \n",
    "    return alist\n",
    "    "
   ]
  },
  {
   "cell_type": "code",
   "execution_count": 73,
   "metadata": {},
   "outputs": [
    {
     "data": {
      "text/plain": [
       "[1, 3, 5, 7, 9, 11]"
      ]
     },
     "execution_count": 73,
     "metadata": {},
     "output_type": "execute_result"
    }
   ],
   "source": [
    "a=[5,3,11,7,9,1]\n",
    "bubble_s(a)"
   ]
  }
 ],
 "metadata": {
  "kernelspec": {
   "display_name": "Python 3",
   "language": "python",
   "name": "python3"
  },
  "language_info": {
   "codemirror_mode": {
    "name": "ipython",
    "version": 3
   },
   "file_extension": ".py",
   "mimetype": "text/x-python",
   "name": "python",
   "nbconvert_exporter": "python",
   "pygments_lexer": "ipython3",
   "version": "3.7.0"
  }
 },
 "nbformat": 4,
 "nbformat_minor": 2
}
