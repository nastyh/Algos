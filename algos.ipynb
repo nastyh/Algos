{
 "cells": [
  {
   "cell_type": "markdown",
   "metadata": {},
   "source": [
    "## <center>Implementation of major algorithms</center>"
   ]
  },
  {
   "cell_type": "markdown",
   "metadata": {},
   "source": [
    "### Binary Search"
   ]
  },
  {
   "cell_type": "code",
   "execution_count": 42,
   "metadata": {},
   "outputs": [],
   "source": [
    "\"\"\"compares the element with the middle element, then goes either left or right\"\"\"\n",
    "def bin_search(alist, item):\n",
    "    first = 0 # index of the first item\n",
    "    last = len(alist) # index of the last item\n",
    "    found = False \n",
    "    \n",
    "    while last >= first and not found:\n",
    "        middle = (first+last) // 2 # index of the middle item\n",
    "        if item == alist[middle]: # if item == the element in the middle\n",
    "            found = True\n",
    "            \n",
    "        else: \n",
    "            if item < alist[middle]: # if item < the element in the middle\n",
    "                last = middle -1 # make index of the last item 1 smaller that the index of the middle item\n",
    "            else: # if item > the element in the middle\n",
    "                first = middle + 1 # make index of the first element 1 bigger than the index of the middle item \n",
    "    return found\n",
    "        "
   ]
  },
  {
   "cell_type": "code",
   "execution_count": 43,
   "metadata": {},
   "outputs": [
    {
     "data": {
      "text/plain": [
       "True"
      ]
     },
     "execution_count": 43,
     "metadata": {},
     "output_type": "execute_result"
    }
   ],
   "source": [
    "b = [7,8,13,14,18,20]\n",
    "bin_search(b, 20)"
   ]
  },
  {
   "cell_type": "markdown",
   "metadata": {},
   "source": [
    "### Bubble Sort"
   ]
  },
  {
   "cell_type": "code",
   "execution_count": 72,
   "metadata": {},
   "outputs": [],
   "source": [
    "\"\"\"compares two elements next to each other and swaps if needed: 1st and 2nd; 2nd and 3rd, etc.\"\"\"\n",
    "def bubble_s(alist):\n",
    "    sorted = False\n",
    "    while not sorted: \n",
    "        sorted = True\n",
    "        for i in range(len(alist)-1):\n",
    "            if alist[i] > alist[i+1]:\n",
    "                sorted = False\n",
    "                alist[i], alist[i+1] = alist[i+1], alist[i]\n",
    "                \n",
    "    return alist\n",
    "    "
   ]
  },
  {
   "cell_type": "code",
   "execution_count": 73,
   "metadata": {},
   "outputs": [
    {
     "data": {
      "text/plain": [
       "[1, 3, 5, 7, 9, 11]"
      ]
     },
     "execution_count": 73,
     "metadata": {},
     "output_type": "execute_result"
    }
   ],
   "source": [
    "a=[5,3,11,7,9,1]\n",
    "bubble_s(a)"
   ]
  },
  {
   "cell_type": "markdown",
   "metadata": {},
   "source": [
    "### Selection Sort"
   ]
  },
  {
   "cell_type": "code",
   "execution_count": 84,
   "metadata": {},
   "outputs": [],
   "source": [
    "\"\"\"find the minimal element, puts into the first position, reassess the rest, etc\n",
    "or find the max element, put to the right, reassesses the rest, etc\"\"\"\n",
    "def sel_sort(alist):\n",
    "    for i in range(len(alist)-1):\n",
    "        min_ind = i\n",
    "        for j in range(i, len(alist)):\n",
    "            if alist[j] < alist[min_ind]:\n",
    "                alist[j],alist[min_ind] = alist[min_ind], alist[j]\n",
    "    return alist\n",
    "            "
   ]
  },
  {
   "cell_type": "code",
   "execution_count": null,
   "metadata": {},
   "outputs": [],
   "source": []
  },
  {
   "cell_type": "code",
   "execution_count": 86,
   "metadata": {},
   "outputs": [
    {
     "data": {
      "text/plain": [
       "[1, 5, 7, 9, 11, 13]"
      ]
     },
     "execution_count": 86,
     "metadata": {},
     "output_type": "execute_result"
    }
   ],
   "source": [
    "a=[5,13,11,7,9,1]\n",
    "sel_sort(a)"
   ]
  },
  {
   "cell_type": "markdown",
   "metadata": {},
   "source": [
    "### Quicksort"
   ]
  },
  {
   "cell_type": "code",
   "execution_count": 19,
   "metadata": {},
   "outputs": [],
   "source": [
    "def q_sort(a):\n",
    "    if len(a) <= 1:\n",
    "        return a\n",
    "    smaller, equal, larger = [],[],[]\n",
    "    pivot = a[len(a)-1]\n",
    "    for x in a:\n",
    "        if x< pivot:\n",
    "            smaller.append(x)\n",
    "        elif x > pivot:\n",
    "            larger.append(x)\n",
    "        else:\n",
    "            equal.append(x)\n",
    "    return q_sort(smaller) + equal + q_sort(larger)"
   ]
  },
  {
   "cell_type": "code",
   "execution_count": null,
   "metadata": {},
   "outputs": [],
   "source": []
  },
  {
   "cell_type": "code",
   "execution_count": 20,
   "metadata": {},
   "outputs": [
    {
     "data": {
      "text/plain": [
       "[1, 2, 9, 11, 43, 66]"
      ]
     },
     "execution_count": 20,
     "metadata": {},
     "output_type": "execute_result"
    }
   ],
   "source": [
    "a=[66,43,2,1,9,11]\n",
    "q_sort(a)"
   ]
  },
  {
   "cell_type": "markdown",
   "metadata": {},
   "source": [
    "### Mergesort"
   ]
  },
  {
   "cell_type": "code",
   "execution_count": 6,
   "metadata": {},
   "outputs": [],
   "source": [
    "def mergesort(alist):\n",
    "    if len(alist) <= 1:\n",
    "        return alist\n",
    "    middle = int(len(alist)/2)\n",
    "    left = alist[:middle]\n",
    "    right = alist[middle:]\n",
    "    mergesort(left), mergesort(right)\n",
    "    return merge_f(left, right)\n",
    "\n",
    "def merge_f(l,r):\n",
    "    result = []\n",
    "    left_p, right_p = 0, 0\n",
    "    while left_p < len(l) and right_p < len(r):\n",
    "        if l[left_p] < r[right_p]:\n",
    "            result.append(l[left_p])\n",
    "            left_p+=left_p\n",
    "        else:\n",
    "            result.append(r[right_p])\n",
    "            right_p+=right_p\n",
    "    result.extend(l[left_p])\n",
    "    result.extend(r[right_p])\n",
    "    \n",
    "    return result\n",
    "        "
   ]
  },
  {
   "cell_type": "code",
   "execution_count": null,
   "metadata": {},
   "outputs": [],
   "source": [
    "a=[55,2,1,22,17,11]\n",
    "mergesort(a)"
   ]
  },
  {
   "cell_type": "markdown",
   "metadata": {},
   "source": [
    "### Whether a string contains dublicates"
   ]
  },
  {
   "cell_type": "code",
   "execution_count": 27,
   "metadata": {},
   "outputs": [],
   "source": [
    "def is_dublicate(st):\n",
    "    seen = []\n",
    "    for char in st:\n",
    "        if char in seen:\n",
    "            return False\n",
    "        seen.append(char)\n",
    "    return True"
   ]
  },
  {
   "cell_type": "code",
   "execution_count": 31,
   "metadata": {},
   "outputs": [
    {
     "data": {
      "text/plain": [
       "True"
      ]
     },
     "execution_count": 31,
     "metadata": {},
     "output_type": "execute_result"
    }
   ],
   "source": [
    "st='abc'\n",
    "is_dublicate(st)"
   ]
  },
  {
   "cell_type": "markdown",
   "metadata": {},
   "source": [
    "### Implementing a LinkedList"
   ]
  },
  {
   "cell_type": "code",
   "execution_count": 9,
   "metadata": {},
   "outputs": [],
   "source": [
    "class Node: # first create a node\n",
    "    def __init__(self, data=None):\n",
    "        self.data = data # it contains data \n",
    "        self.next = None # but doesn't point anywhere\n",
    "        \n",
    "class linkedList: # based on the node, create a linked list\n",
    "    def __init__(self):\n",
    "        self.head = node() # the only element is head and it's created as a node\n",
    "    def append(self, value): # adding a node to the list\n",
    "        new_node = Node(value) # if there is not linkedlist at all\n",
    "        if self.head is None:\n",
    "            self.head = new_node\n",
    "        last_node = self.head\n",
    "        while last_node.next:\n",
    "            last_node = last_node.next\n",
    "        last_node.next = new_node\n",
    "    def print_list(self): # print out a linked list\n",
    "        curr = head.list\n",
    "        while curr:\n",
    "            curr = curr.next\n",
    "            print(curr.data)\n",
    "        "
   ]
  },
  {
   "cell_type": "markdown",
   "metadata": {},
   "source": [
    "#### Removing a node from Linked List"
   ]
  },
  {
   "cell_type": "code",
   "execution_count": 3,
   "metadata": {},
   "outputs": [],
   "source": [
    "\"\"\"\n",
    "Check the edge cases, if a node to be removed is a head or a tail.\n",
    "After removing a node, change the pointer from the node n-1 to node n+1\n",
    "If a node to be deleted not in the list, tell \n",
    "Return the new linked list\n",
    "\"\"\"\n",
    "def removeNode(self, value):\n",
    "    curr = self.head # curr equals to the head of the list\n",
    "    prev = None\n",
    "    if curr and curr.data == value: # means that the head node is the node to be deleted\n",
    "        self.head = curr.next\n",
    "        curr = None # this is how a node is deleted \n",
    "        return \n",
    "    while curr and curr.data != value:\n",
    "        prev = curr\n",
    "        curr = curr.next\n",
    "    if curr is None: return \n",
    "    \n",
    "    prev.next = curr.next\n",
    "    curr = None\n",
    "    "
   ]
  },
  {
   "cell_type": "code",
   "execution_count": 10,
   "metadata": {},
   "outputs": [],
   "source": [
    "llist = linkedList()\n",
    "llist.append('A')\n",
    "llist.append('B')\n",
    "llist.append('C')\n",
    "llist.append('D')"
   ]
  },
  {
   "cell_type": "code",
   "execution_count": 11,
   "metadata": {},
   "outputs": [
    {
     "ename": "NameError",
     "evalue": "name 'head' is not defined",
     "output_type": "error",
     "traceback": [
      "\u001b[0;31m---------------------------------------------------------------------------\u001b[0m",
      "\u001b[0;31mNameError\u001b[0m                                 Traceback (most recent call last)",
      "\u001b[0;32m<ipython-input-11-ad14096692df>\u001b[0m in \u001b[0;36m<module>\u001b[0;34m\u001b[0m\n\u001b[0;32m----> 1\u001b[0;31m \u001b[0mllist\u001b[0m\u001b[0;34m.\u001b[0m\u001b[0mprint_list\u001b[0m\u001b[0;34m(\u001b[0m\u001b[0;34m)\u001b[0m\u001b[0;34m\u001b[0m\u001b[0m\n\u001b[0m",
      "\u001b[0;32m<ipython-input-9-355c36173df3>\u001b[0m in \u001b[0;36mprint_list\u001b[0;34m(self)\u001b[0m\n\u001b[1;32m     16\u001b[0m         \u001b[0mlast_node\u001b[0m\u001b[0;34m.\u001b[0m\u001b[0mnext\u001b[0m \u001b[0;34m=\u001b[0m \u001b[0mnew_node\u001b[0m\u001b[0;34m\u001b[0m\u001b[0m\n\u001b[1;32m     17\u001b[0m     \u001b[0;32mdef\u001b[0m \u001b[0mprint_list\u001b[0m\u001b[0;34m(\u001b[0m\u001b[0mself\u001b[0m\u001b[0;34m)\u001b[0m\u001b[0;34m:\u001b[0m \u001b[0;31m# print out a linked list\u001b[0m\u001b[0;34m\u001b[0m\u001b[0m\n\u001b[0;32m---> 18\u001b[0;31m         \u001b[0mcurr\u001b[0m \u001b[0;34m=\u001b[0m \u001b[0mhead\u001b[0m\u001b[0;34m.\u001b[0m\u001b[0mlist\u001b[0m\u001b[0;34m\u001b[0m\u001b[0m\n\u001b[0m\u001b[1;32m     19\u001b[0m         \u001b[0;32mwhile\u001b[0m \u001b[0mcurr\u001b[0m\u001b[0;34m:\u001b[0m\u001b[0;34m\u001b[0m\u001b[0m\n\u001b[1;32m     20\u001b[0m             \u001b[0mcurr\u001b[0m \u001b[0;34m=\u001b[0m \u001b[0mcurr\u001b[0m\u001b[0;34m.\u001b[0m\u001b[0mnext\u001b[0m\u001b[0;34m\u001b[0m\u001b[0m\n",
      "\u001b[0;31mNameError\u001b[0m: name 'head' is not defined"
     ]
    }
   ],
   "source": [
    "llist.print_list()"
   ]
  }
 ],
 "metadata": {
  "kernelspec": {
   "display_name": "Python 3",
   "language": "python",
   "name": "python3"
  },
  "language_info": {
   "codemirror_mode": {
    "name": "ipython",
    "version": 3
   },
   "file_extension": ".py",
   "mimetype": "text/x-python",
   "name": "python",
   "nbconvert_exporter": "python",
   "pygments_lexer": "ipython3",
   "version": "3.7.0"
  }
 },
 "nbformat": 4,
 "nbformat_minor": 2
}
